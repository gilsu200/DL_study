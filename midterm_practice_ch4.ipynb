{
  "cells": [
    {
      "cell_type": "markdown",
      "metadata": {
        "id": "view-in-github",
        "colab_type": "text"
      },
      "source": [
        "<a href=\"https://colab.research.google.com/github/gilsu200/DL_study/blob/main/midterm_practice_ch4.ipynb\" target=\"_parent\"><img src=\"https://colab.research.google.com/assets/colab-badge.svg\" alt=\"Open In Colab\"/></a>"
      ]
    },
    {
      "cell_type": "markdown",
      "metadata": {
        "id": "1csvZ7gIRydn"
      },
      "source": [
        "이 노트북은 [케라스 창시자에게 배우는 딥러닝 2판](https://tensorflow.blog/kerasdl2/)의 예제 코드를 담고 있습니다.\n",
        "\n",
        "<table align=\"left\">\n",
        "    <tr>\n",
        "        <td>\n",
        "            <a href=\"https://colab.research.google.com/github/rickiepark/deep-learning-with-python-2nd/blob/main/chapter04_getting-started-with-neural-networks.ipynb\" target=\"_parent\"><img src=\"https://colab.research.google.com/assets/colab-badge.svg\" alt=\"Open In Colab\"/></a>\n",
        "        </td>\n",
        "    </tr>\n",
        "</table>"
      ]
    },
    {
      "cell_type": "code",
      "source": [
        "# 코랩에서 메모리 부족을 피하기 위해 부동소수점 정밀도를 낮춥니다.\n",
        "import tensorflow as tf\n",
        "\n",
        "tf.keras.backend.set_floatx('float16')"
      ],
      "metadata": {
        "id": "LcAZD0hMLaHg"
      },
      "execution_count": 11,
      "outputs": []
    },
    {
      "cell_type": "markdown",
      "metadata": {
        "id": "K-mJrYOYRydu"
      },
      "source": [
        "# 신경망 시작하기: 분류와 회귀"
      ]
    },
    {
      "cell_type": "markdown",
      "metadata": {
        "id": "oALyyfgXRydv"
      },
      "source": [
        "## 영화 리뷰 분류: 이진 분류 예제"
      ]
    },
    {
      "cell_type": "markdown",
      "metadata": {
        "id": "rjZERUadRydw"
      },
      "source": [
        "### IMDB 데이터셋"
      ]
    },
    {
      "cell_type": "markdown",
      "metadata": {
        "id": "9BQhTZrmRydx"
      },
      "source": [
        "**IMDB 데이터셋 로드하기**"
      ]
    },
    {
      "cell_type": "code",
      "execution_count": 12,
      "metadata": {
        "execution": {
          "iopub.execute_input": "2022-05-21T00:58:24.141645Z",
          "iopub.status.busy": "2022-05-21T00:58:24.140889Z",
          "iopub.status.idle": "2022-05-21T00:58:29.816007Z",
          "shell.execute_reply": "2022-05-21T00:58:29.814955Z"
        },
        "id": "EJIEvVXqRydy"
      },
      "outputs": [],
      "source": [
        "from tensorflow.keras.datasets import imdb\n",
        "(train_data, train_labels), (test_data, test_labels) = imdb.load_data(\n",
        "    num_words=10000)"
      ]
    },
    {
      "cell_type": "code",
      "execution_count": null,
      "metadata": {
        "execution": {
          "iopub.execute_input": "2022-05-21T00:58:29.821048Z",
          "iopub.status.busy": "2022-05-21T00:58:29.820518Z",
          "iopub.status.idle": "2022-05-21T00:58:29.833665Z",
          "shell.execute_reply": "2022-05-21T00:58:29.832695Z"
        },
        "id": "uAk9jmdMRyd0",
        "outputId": "ac579512-0641-4a7a-b949-ec4f5e1fe819",
        "colab": {
          "base_uri": "https://localhost:8080/"
        }
      },
      "outputs": [
        {
          "output_type": "execute_result",
          "data": {
            "text/plain": [
              "[1,\n",
              " 14,\n",
              " 22,\n",
              " 16,\n",
              " 43,\n",
              " 530,\n",
              " 973,\n",
              " 1622,\n",
              " 1385,\n",
              " 65,\n",
              " 458,\n",
              " 4468,\n",
              " 66,\n",
              " 3941,\n",
              " 4,\n",
              " 173,\n",
              " 36,\n",
              " 256,\n",
              " 5,\n",
              " 25,\n",
              " 100,\n",
              " 43,\n",
              " 838,\n",
              " 112,\n",
              " 50,\n",
              " 670,\n",
              " 2,\n",
              " 9,\n",
              " 35,\n",
              " 480,\n",
              " 284,\n",
              " 5,\n",
              " 150,\n",
              " 4,\n",
              " 172,\n",
              " 112,\n",
              " 167,\n",
              " 2,\n",
              " 336,\n",
              " 385,\n",
              " 39,\n",
              " 4,\n",
              " 172,\n",
              " 4536,\n",
              " 1111,\n",
              " 17,\n",
              " 546,\n",
              " 38,\n",
              " 13,\n",
              " 447,\n",
              " 4,\n",
              " 192,\n",
              " 50,\n",
              " 16,\n",
              " 6,\n",
              " 147,\n",
              " 2025,\n",
              " 19,\n",
              " 14,\n",
              " 22,\n",
              " 4,\n",
              " 1920,\n",
              " 4613,\n",
              " 469,\n",
              " 4,\n",
              " 22,\n",
              " 71,\n",
              " 87,\n",
              " 12,\n",
              " 16,\n",
              " 43,\n",
              " 530,\n",
              " 38,\n",
              " 76,\n",
              " 15,\n",
              " 13,\n",
              " 1247,\n",
              " 4,\n",
              " 22,\n",
              " 17,\n",
              " 515,\n",
              " 17,\n",
              " 12,\n",
              " 16,\n",
              " 626,\n",
              " 18,\n",
              " 2,\n",
              " 5,\n",
              " 62,\n",
              " 386,\n",
              " 12,\n",
              " 8,\n",
              " 316,\n",
              " 8,\n",
              " 106,\n",
              " 5,\n",
              " 4,\n",
              " 2223,\n",
              " 5244,\n",
              " 16,\n",
              " 480,\n",
              " 66,\n",
              " 3785,\n",
              " 33,\n",
              " 4,\n",
              " 130,\n",
              " 12,\n",
              " 16,\n",
              " 38,\n",
              " 619,\n",
              " 5,\n",
              " 25,\n",
              " 124,\n",
              " 51,\n",
              " 36,\n",
              " 135,\n",
              " 48,\n",
              " 25,\n",
              " 1415,\n",
              " 33,\n",
              " 6,\n",
              " 22,\n",
              " 12,\n",
              " 215,\n",
              " 28,\n",
              " 77,\n",
              " 52,\n",
              " 5,\n",
              " 14,\n",
              " 407,\n",
              " 16,\n",
              " 82,\n",
              " 2,\n",
              " 8,\n",
              " 4,\n",
              " 107,\n",
              " 117,\n",
              " 5952,\n",
              " 15,\n",
              " 256,\n",
              " 4,\n",
              " 2,\n",
              " 7,\n",
              " 3766,\n",
              " 5,\n",
              " 723,\n",
              " 36,\n",
              " 71,\n",
              " 43,\n",
              " 530,\n",
              " 476,\n",
              " 26,\n",
              " 400,\n",
              " 317,\n",
              " 46,\n",
              " 7,\n",
              " 4,\n",
              " 2,\n",
              " 1029,\n",
              " 13,\n",
              " 104,\n",
              " 88,\n",
              " 4,\n",
              " 381,\n",
              " 15,\n",
              " 297,\n",
              " 98,\n",
              " 32,\n",
              " 2071,\n",
              " 56,\n",
              " 26,\n",
              " 141,\n",
              " 6,\n",
              " 194,\n",
              " 7486,\n",
              " 18,\n",
              " 4,\n",
              " 226,\n",
              " 22,\n",
              " 21,\n",
              " 134,\n",
              " 476,\n",
              " 26,\n",
              " 480,\n",
              " 5,\n",
              " 144,\n",
              " 30,\n",
              " 5535,\n",
              " 18,\n",
              " 51,\n",
              " 36,\n",
              " 28,\n",
              " 224,\n",
              " 92,\n",
              " 25,\n",
              " 104,\n",
              " 4,\n",
              " 226,\n",
              " 65,\n",
              " 16,\n",
              " 38,\n",
              " 1334,\n",
              " 88,\n",
              " 12,\n",
              " 16,\n",
              " 283,\n",
              " 5,\n",
              " 16,\n",
              " 4472,\n",
              " 113,\n",
              " 103,\n",
              " 32,\n",
              " 15,\n",
              " 16,\n",
              " 5345,\n",
              " 19,\n",
              " 178,\n",
              " 32]"
            ]
          },
          "metadata": {},
          "execution_count": 4
        }
      ],
      "source": [
        "train_data[0]"
      ]
    },
    {
      "cell_type": "code",
      "execution_count": null,
      "metadata": {
        "execution": {
          "iopub.execute_input": "2022-05-21T00:58:29.837815Z",
          "iopub.status.busy": "2022-05-21T00:58:29.837516Z",
          "iopub.status.idle": "2022-05-21T00:58:29.842773Z",
          "shell.execute_reply": "2022-05-21T00:58:29.841816Z"
        },
        "id": "-NAW-Oh2Ryd2",
        "outputId": "5a04e7e7-dfc4-4eee-87ae-b0bf179219bb",
        "colab": {
          "base_uri": "https://localhost:8080/"
        }
      },
      "outputs": [
        {
          "output_type": "execute_result",
          "data": {
            "text/plain": [
              "1"
            ]
          },
          "metadata": {},
          "execution_count": 5
        }
      ],
      "source": [
        "train_labels[0]"
      ]
    },
    {
      "cell_type": "code",
      "execution_count": null,
      "metadata": {
        "execution": {
          "iopub.execute_input": "2022-05-21T00:58:29.846598Z",
          "iopub.status.busy": "2022-05-21T00:58:29.846314Z",
          "iopub.status.idle": "2022-05-21T00:58:29.960078Z",
          "shell.execute_reply": "2022-05-21T00:58:29.959154Z"
        },
        "id": "_OKegKwsRyd3",
        "outputId": "ec0d70e2-e8ff-4772-fe52-7ac548f8f0e3",
        "colab": {
          "base_uri": "https://localhost:8080/"
        }
      },
      "outputs": [
        {
          "output_type": "execute_result",
          "data": {
            "text/plain": [
              "9999"
            ]
          },
          "metadata": {},
          "execution_count": 6
        }
      ],
      "source": [
        "max([max(sequence) for sequence in train_data])"
      ]
    },
    {
      "cell_type": "markdown",
      "metadata": {
        "id": "1syr49QyRyd4"
      },
      "source": [
        "**리뷰를 다시 텍스트로 디코딩하기**"
      ]
    },
    {
      "cell_type": "code",
      "execution_count": 8,
      "metadata": {
        "execution": {
          "iopub.execute_input": "2022-05-21T00:58:29.964258Z",
          "iopub.status.busy": "2022-05-21T00:58:29.963607Z",
          "iopub.status.idle": "2022-05-21T00:58:30.665703Z",
          "shell.execute_reply": "2022-05-21T00:58:30.664813Z"
        },
        "id": "FmGd2tohRyd5",
        "colab": {
          "base_uri": "https://localhost:8080/"
        },
        "outputId": "a66c9e2b-3168-4d42-d74f-9c78a9152407"
      },
      "outputs": [
        {
          "output_type": "stream",
          "name": "stdout",
          "text": [
            "Downloading data from https://storage.googleapis.com/tensorflow/tf-keras-datasets/imdb_word_index.json\n",
            "1641221/1641221 [==============================] - 0s 0us/step\n"
          ]
        }
      ],
      "source": [
        "word_index = imdb.get_word_index()\n",
        "reverse_word_index = dict(\n",
        "    [(value, key) for (key, value) in word_index.items()])\n",
        "decoded_review = \" \".join(\n",
        "    [reverse_word_index.get(i - 3, \"?\") for i in train_data[0]])"
      ]
    },
    {
      "cell_type": "markdown",
      "metadata": {
        "id": "TL-I0vCkRyd5"
      },
      "source": [
        "### 데이터 준비"
      ]
    },
    {
      "cell_type": "markdown",
      "metadata": {
        "id": "JMw5jhfYRyd6"
      },
      "source": [
        "**정수 시퀀스를 멀티-핫 인코딩으로 인코딩하기**"
      ]
    },
    {
      "cell_type": "code",
      "execution_count": 9,
      "metadata": {
        "execution": {
          "iopub.execute_input": "2022-05-21T00:58:30.670103Z",
          "iopub.status.busy": "2022-05-21T00:58:30.669714Z",
          "iopub.status.idle": "2022-05-21T00:58:35.758749Z",
          "shell.execute_reply": "2022-05-21T00:58:35.757888Z"
        },
        "id": "J2YPggO4Ryd6"
      },
      "outputs": [],
      "source": [
        "import numpy as np\n",
        "def vectorize_sequences(sequences, dimension=10000):\n",
        "    results = np.zeros((len(sequences), dimension))\n",
        "    for i, sequence in enumerate(sequences):\n",
        "        for j in sequence:\n",
        "            results[i, j] = 1.\n",
        "    return results\n",
        "x_train = vectorize_sequences(train_data)\n",
        "x_test = vectorize_sequences(test_data)"
      ]
    },
    {
      "cell_type": "code",
      "execution_count": null,
      "metadata": {
        "execution": {
          "iopub.execute_input": "2022-05-21T00:58:35.763362Z",
          "iopub.status.busy": "2022-05-21T00:58:35.762546Z",
          "iopub.status.idle": "2022-05-21T00:58:35.768031Z",
          "shell.execute_reply": "2022-05-21T00:58:35.767303Z"
        },
        "id": "cRP3GExeRyd7",
        "outputId": "bd14e359-fb5f-4897-f871-89ad35f11ee8",
        "colab": {
          "base_uri": "https://localhost:8080/"
        }
      },
      "outputs": [
        {
          "output_type": "execute_result",
          "data": {
            "text/plain": [
              "array([0., 1., 1., ..., 0., 0., 0.])"
            ]
          },
          "metadata": {},
          "execution_count": 9
        }
      ],
      "source": [
        "x_train[0]"
      ]
    },
    {
      "cell_type": "code",
      "execution_count": null,
      "metadata": {
        "execution": {
          "iopub.execute_input": "2022-05-21T00:58:35.771822Z",
          "iopub.status.busy": "2022-05-21T00:58:35.771015Z",
          "iopub.status.idle": "2022-05-21T00:58:35.775500Z",
          "shell.execute_reply": "2022-05-21T00:58:35.774750Z"
        },
        "id": "iBw59ZljRyd7"
      },
      "outputs": [],
      "source": [
        "y_train = np.asarray(train_labels).astype(\"float32\")\n",
        "y_test = np.asarray(test_labels).astype(\"float32\")"
      ]
    },
    {
      "cell_type": "markdown",
      "metadata": {
        "id": "LANAjB0URyd8"
      },
      "source": [
        "### 신경망 모델 만들기"
      ]
    },
    {
      "cell_type": "markdown",
      "metadata": {
        "id": "qObD7ZSGRyd9"
      },
      "source": [
        "**모델 정의하기**"
      ]
    },
    {
      "cell_type": "code",
      "execution_count": null,
      "metadata": {
        "execution": {
          "iopub.execute_input": "2022-05-21T00:58:35.779731Z",
          "iopub.status.busy": "2022-05-21T00:58:35.779026Z",
          "iopub.status.idle": "2022-05-21T00:58:35.798811Z",
          "shell.execute_reply": "2022-05-21T00:58:35.797834Z"
        },
        "id": "iuTuYC4kRyd9"
      },
      "outputs": [],
      "source": [
        "from tensorflow import keras\n",
        "from tensorflow.keras import layers\n",
        "\n",
        "model = keras.Sequential([\n",
        "    layers.Dense(16, activation=\"relu\"),\n",
        "    layers.Dense(16, activation=\"relu\"),\n",
        "    layers.Dense(1, activation=\"sigmoid\")\n",
        "])"
      ]
    },
    {
      "cell_type": "markdown",
      "metadata": {
        "id": "JoRYVfdjRyd-"
      },
      "source": [
        "**모델 컴파일하기**"
      ]
    },
    {
      "cell_type": "code",
      "execution_count": null,
      "metadata": {
        "execution": {
          "iopub.execute_input": "2022-05-21T00:58:35.803010Z",
          "iopub.status.busy": "2022-05-21T00:58:35.802409Z",
          "iopub.status.idle": "2022-05-21T00:58:35.815382Z",
          "shell.execute_reply": "2022-05-21T00:58:35.814494Z"
        },
        "id": "KBQeB8kXRyd-"
      },
      "outputs": [],
      "source": [
        "model.compile(optimizer=\"rmsprop\",\n",
        "              loss=\"binary_crossentropy\",\n",
        "              metrics=[\"accuracy\"])"
      ]
    },
    {
      "cell_type": "markdown",
      "metadata": {
        "id": "Mjevp6k6Ryd_"
      },
      "source": [
        "### 훈련 검증"
      ]
    },
    {
      "cell_type": "markdown",
      "metadata": {
        "id": "KdUMmM7SRyd_"
      },
      "source": [
        "**검증 세트 준비하기**"
      ]
    },
    {
      "cell_type": "code",
      "execution_count": null,
      "metadata": {
        "execution": {
          "iopub.execute_input": "2022-05-21T00:58:35.819667Z",
          "iopub.status.busy": "2022-05-21T00:58:35.819032Z",
          "iopub.status.idle": "2022-05-21T00:58:35.824128Z",
          "shell.execute_reply": "2022-05-21T00:58:35.823100Z"
        },
        "id": "SgqzuOPoRyeA"
      },
      "outputs": [],
      "source": [
        "x_val = x_train[:10000]\n",
        "partial_x_train = x_train[10000:]\n",
        "y_val = y_train[:10000]\n",
        "partial_y_train = y_train[10000:]"
      ]
    },
    {
      "cell_type": "markdown",
      "metadata": {
        "id": "deqFApPTRyeA"
      },
      "source": [
        "**모델 훈련하기**"
      ]
    },
    {
      "cell_type": "code",
      "execution_count": null,
      "metadata": {
        "execution": {
          "iopub.execute_input": "2022-05-21T00:58:35.828086Z",
          "iopub.status.busy": "2022-05-21T00:58:35.827799Z",
          "iopub.status.idle": "2022-05-21T00:58:47.348964Z",
          "shell.execute_reply": "2022-05-21T00:58:47.348136Z"
        },
        "id": "Wsgo70IxRyeA",
        "outputId": "57522bff-9ff8-48fa-ec34-ee569a4c4907",
        "colab": {
          "base_uri": "https://localhost:8080/"
        }
      },
      "outputs": [
        {
          "output_type": "stream",
          "name": "stdout",
          "text": [
            "Epoch 1/20\n",
            "30/30 [==============================] - 5s 77ms/step - loss: 0.5449 - accuracy: 0.7650 - val_loss: 0.4321 - val_accuracy: 0.8306\n",
            "Epoch 2/20\n",
            "30/30 [==============================] - 1s 43ms/step - loss: 0.3409 - accuracy: 0.8928 - val_loss: 0.3359 - val_accuracy: 0.8727\n",
            "Epoch 3/20\n",
            "30/30 [==============================] - 1s 23ms/step - loss: 0.2511 - accuracy: 0.9186 - val_loss: 0.2868 - val_accuracy: 0.8885\n",
            "Epoch 4/20\n",
            "30/30 [==============================] - 1s 23ms/step - loss: 0.2034 - accuracy: 0.9347 - val_loss: 0.2748 - val_accuracy: 0.8894\n",
            "Epoch 5/20\n",
            "30/30 [==============================] - 1s 22ms/step - loss: 0.1684 - accuracy: 0.9457 - val_loss: 0.2809 - val_accuracy: 0.8843\n",
            "Epoch 6/20\n",
            "30/30 [==============================] - 1s 22ms/step - loss: 0.1433 - accuracy: 0.9551 - val_loss: 0.2799 - val_accuracy: 0.8872\n",
            "Epoch 7/20\n",
            "30/30 [==============================] - 1s 22ms/step - loss: 0.1218 - accuracy: 0.9627 - val_loss: 0.3203 - val_accuracy: 0.8797\n",
            "Epoch 8/20\n",
            "30/30 [==============================] - 1s 26ms/step - loss: 0.1035 - accuracy: 0.9697 - val_loss: 0.3271 - val_accuracy: 0.8785\n",
            "Epoch 9/20\n",
            "30/30 [==============================] - 1s 28ms/step - loss: 0.0875 - accuracy: 0.9759 - val_loss: 0.3172 - val_accuracy: 0.8825\n",
            "Epoch 10/20\n",
            "30/30 [==============================] - 1s 29ms/step - loss: 0.0752 - accuracy: 0.9804 - val_loss: 0.3695 - val_accuracy: 0.8736\n",
            "Epoch 11/20\n",
            "30/30 [==============================] - 1s 30ms/step - loss: 0.0609 - accuracy: 0.9863 - val_loss: 0.3878 - val_accuracy: 0.8691\n",
            "Epoch 12/20\n",
            "30/30 [==============================] - 1s 22ms/step - loss: 0.0539 - accuracy: 0.9871 - val_loss: 0.3804 - val_accuracy: 0.8776\n",
            "Epoch 13/20\n",
            "30/30 [==============================] - 1s 24ms/step - loss: 0.0441 - accuracy: 0.9912 - val_loss: 0.4196 - val_accuracy: 0.8686\n",
            "Epoch 14/20\n",
            "30/30 [==============================] - 1s 22ms/step - loss: 0.0367 - accuracy: 0.9919 - val_loss: 0.4252 - val_accuracy: 0.8731\n",
            "Epoch 15/20\n",
            "30/30 [==============================] - 1s 22ms/step - loss: 0.0300 - accuracy: 0.9949 - val_loss: 0.4352 - val_accuracy: 0.8752\n",
            "Epoch 16/20\n",
            "30/30 [==============================] - 1s 36ms/step - loss: 0.0241 - accuracy: 0.9969 - val_loss: 0.4890 - val_accuracy: 0.8668\n",
            "Epoch 17/20\n",
            "30/30 [==============================] - 1s 29ms/step - loss: 0.0194 - accuracy: 0.9985 - val_loss: 0.4823 - val_accuracy: 0.8725\n",
            "Epoch 18/20\n",
            "30/30 [==============================] - 1s 30ms/step - loss: 0.0172 - accuracy: 0.9977 - val_loss: 0.5023 - val_accuracy: 0.8743\n",
            "Epoch 19/20\n",
            "30/30 [==============================] - 1s 25ms/step - loss: 0.0114 - accuracy: 0.9991 - val_loss: 0.6125 - val_accuracy: 0.8556\n",
            "Epoch 20/20\n",
            "30/30 [==============================] - 1s 21ms/step - loss: 0.0096 - accuracy: 0.9995 - val_loss: 0.6132 - val_accuracy: 0.8581\n"
          ]
        }
      ],
      "source": [
        "history = model.fit(partial_x_train,\n",
        "                    partial_y_train,\n",
        "                    epochs=20,\n",
        "                    batch_size=512,\n",
        "                    validation_data=(x_val, y_val))"
      ]
    },
    {
      "cell_type": "code",
      "execution_count": null,
      "metadata": {
        "execution": {
          "iopub.execute_input": "2022-05-21T00:58:47.353728Z",
          "iopub.status.busy": "2022-05-21T00:58:47.352917Z",
          "iopub.status.idle": "2022-05-21T00:58:47.359185Z",
          "shell.execute_reply": "2022-05-21T00:58:47.358228Z"
        },
        "id": "8hVNM3-7RyeB",
        "outputId": "5003131a-2555-4072-8fec-654e611780fb",
        "colab": {
          "base_uri": "https://localhost:8080/"
        }
      },
      "outputs": [
        {
          "output_type": "execute_result",
          "data": {
            "text/plain": [
              "dict_keys(['loss', 'accuracy', 'val_loss', 'val_accuracy'])"
            ]
          },
          "metadata": {},
          "execution_count": 9
        }
      ],
      "source": [
        "history_dict = history.history\n",
        "history_dict.keys()"
      ]
    },
    {
      "cell_type": "markdown",
      "metadata": {
        "id": "6HHYvTJZRyeB"
      },
      "source": [
        "**훈련과 검증 손실 그리기**"
      ]
    },
    {
      "cell_type": "code",
      "execution_count": null,
      "metadata": {
        "execution": {
          "iopub.execute_input": "2022-05-21T00:58:47.363128Z",
          "iopub.status.busy": "2022-05-21T00:58:47.362820Z",
          "iopub.status.idle": "2022-05-21T00:58:48.134762Z",
          "shell.execute_reply": "2022-05-21T00:58:48.133858Z"
        },
        "id": "wVEVb03vRyeC",
        "outputId": "0c912a2a-352f-418f-b193-41beb4223e54",
        "colab": {
          "base_uri": "https://localhost:8080/",
          "height": 472
        }
      },
      "outputs": [
        {
          "output_type": "display_data",
          "data": {
            "text/plain": [
              "<Figure size 640x480 with 1 Axes>"
            ],
            "image/png": "[encoded data removed]"
          },
          "metadata": {}
        }
      ],
      "source": [
        "import matplotlib.pyplot as plt\n",
        "history_dict = history.history\n",
        "loss_values = history_dict[\"loss\"]\n",
        "val_loss_values = history_dict[\"val_loss\"]\n",
        "epochs = range(1, len(loss_values) + 1)\n",
        "plt.plot(epochs, loss_values, \"bo\", label=\"Training loss\")\n",
        "plt.plot(epochs, val_loss_values, \"b\", label=\"Validation loss\")\n",
        "plt.title(\"Training and validation loss\")\n",
        "plt.xlabel(\"Epochs\")\n",
        "plt.ylabel(\"Loss\")\n",
        "plt.legend()\n",
        "plt.show()"
      ]
    },
    {
      "cell_type": "markdown",
      "metadata": {
        "id": "vyz4nyT0RyeC"
      },
      "source": [
        "**훈련과 검증 정확도 그리기**"
      ]
    },
    {
      "cell_type": "code",
      "execution_count": null,
      "metadata": {
        "execution": {
          "iopub.execute_input": "2022-05-21T00:58:48.138805Z",
          "iopub.status.busy": "2022-05-21T00:58:48.138316Z",
          "iopub.status.idle": "2022-05-21T00:58:48.508495Z",
          "shell.execute_reply": "2022-05-21T00:58:48.507640Z"
        },
        "id": "4lhxzsBfRyeD",
        "outputId": "4745ba5b-2e6a-4bec-af7f-45ad36684497",
        "colab": {
          "base_uri": "https://localhost:8080/",
          "height": 472
        }
      },
      "outputs": [
        {
          "output_type": "display_data",
          "data": {
            "text/plain": [
              "<Figure size 640x480 with 1 Axes>"
            ],
            "image/png": "[encoded data removed]"
          },
          "metadata": {}
        }
      ],
      "source": [
        "plt.clf()\n",
        "acc = history_dict[\"accuracy\"]\n",
        "val_acc = history_dict[\"val_accuracy\"]\n",
        "plt.plot(epochs, acc, \"bo\", label=\"Training acc\")\n",
        "plt.plot(epochs, val_acc, \"b\", label=\"Validation acc\")\n",
        "plt.title(\"Training and validation accuracy\")\n",
        "plt.xlabel(\"Epochs\")\n",
        "plt.ylabel(\"Accuracy\")\n",
        "plt.legend()\n",
        "plt.show()"
      ]
    },
    {
      "cell_type": "markdown",
      "metadata": {
        "id": "mLMQIrsARyeE"
      },
      "source": [
        "**모델을 처음부터 다시 훈련하기**"
      ]
    },
    {
      "cell_type": "code",
      "execution_count": null,
      "metadata": {
        "execution": {
          "iopub.execute_input": "2022-05-21T00:58:48.512410Z",
          "iopub.status.busy": "2022-05-21T00:58:48.512097Z",
          "iopub.status.idle": "2022-05-21T00:58:53.740167Z",
          "shell.execute_reply": "2022-05-21T00:58:53.739318Z"
        },
        "id": "WdbiqqoXRyeE",
        "outputId": "ab2f6beb-b4e1-4a13-f3ff-f760bbaffe95",
        "colab": {
          "base_uri": "https://localhost:8080/"
        }
      },
      "outputs": [
        {
          "output_type": "stream",
          "name": "stdout",
          "text": [
            "Epoch 1/4\n",
            "49/49 [==============================] - 2s 14ms/step - loss: 0.4854 - accuracy: 0.8091\n",
            "Epoch 2/4\n",
            "49/49 [==============================] - 1s 13ms/step - loss: 0.2866 - accuracy: 0.8989\n",
            "Epoch 3/4\n",
            "49/49 [==============================] - 1s 14ms/step - loss: 0.2213 - accuracy: 0.9205\n",
            "Epoch 4/4\n",
            "49/49 [==============================] - 1s 14ms/step - loss: 0.1886 - accuracy: 0.9329\n",
            "782/782 [==============================] - 2s 3ms/step - loss: 0.2832 - accuracy: 0.8876\n"
          ]
        }
      ],
      "source": [
        "model = keras.Sequential([\n",
        "    layers.Dense(16, activation=\"relu\"),\n",
        "    layers.Dense(16, activation=\"relu\"),\n",
        "    layers.Dense(1, activation=\"sigmoid\")\n",
        "])\n",
        "model.compile(optimizer=\"rmsprop\",\n",
        "              loss=\"binary_crossentropy\",\n",
        "              metrics=[\"accuracy\"])\n",
        "model.fit(x_train, y_train, epochs=4, batch_size=512)\n",
        "results = model.evaluate(x_test, y_test)"
      ]
    },
    {
      "cell_type": "code",
      "execution_count": null,
      "metadata": {
        "execution": {
          "iopub.execute_input": "2022-05-21T00:58:53.744082Z",
          "iopub.status.busy": "2022-05-21T00:58:53.743592Z",
          "iopub.status.idle": "2022-05-21T00:58:53.748662Z",
          "shell.execute_reply": "2022-05-21T00:58:53.747996Z"
        },
        "id": "AutNeyvsRyeF",
        "outputId": "42910d0c-2242-42c5-bf67-406df6c2b4ce",
        "colab": {
          "base_uri": "https://localhost:8080/"
        }
      },
      "outputs": [
        {
          "output_type": "execute_result",
          "data": {
            "text/plain": [
              "[0.28318285942077637, 0.8876000046730042]"
            ]
          },
          "metadata": {},
          "execution_count": 13
        }
      ],
      "source": [
        "results"
      ]
    },
    {
      "cell_type": "markdown",
      "metadata": {
        "id": "9b6hcHKARyeG"
      },
      "source": [
        "### 훈련된 모델로 새로운 데이터에 대해 예측하기"
      ]
    },
    {
      "cell_type": "code",
      "execution_count": null,
      "metadata": {
        "execution": {
          "iopub.execute_input": "2022-05-21T00:58:53.753112Z",
          "iopub.status.busy": "2022-05-21T00:58:53.752141Z",
          "iopub.status.idle": "2022-05-21T00:58:55.786729Z",
          "shell.execute_reply": "2022-05-21T00:58:55.785781Z"
        },
        "id": "453lRW_wRyeH",
        "outputId": "249e71c6-78de-44ec-fa9e-9eb3cb213dc9",
        "colab": {
          "base_uri": "https://localhost:8080/"
        }
      },
      "outputs": [
        {
          "output_type": "stream",
          "name": "stdout",
          "text": [
            "782/782 [==============================] - 2s 2ms/step\n"
          ]
        },
        {
          "output_type": "execute_result",
          "data": {
            "text/plain": [
              "array([[0.20784423],\n",
              "       [0.99935263],\n",
              "       [0.6913637 ],\n",
              "       ...,\n",
              "       [0.09331548],\n",
              "       [0.06716382],\n",
              "       [0.5985717 ]], dtype=float32)"
            ]
          },
          "metadata": {},
          "execution_count": 14
        }
      ],
      "source": [
        "model.predict(x_test)"
      ]
    },
    {
      "cell_type": "markdown",
      "source": [
        "은닉층을 하나 또는 세 개 사용하기:\n",
        "\n",
        "Sequential 모델의 아키텍처를 조정하여 다른 수의 은닉층을 시도해볼 수 있습니다. 예를 들어, 모델 정의에서 layers.Dense 인스턴스를 추가하거나 제거하여 은닉층의 수를 조절할 수 있습니다.\n",
        "훈련 후에는 하나, 둘, 그리고 세 개의 은닉층을 사용한 모델의 검증 손실 및 정확도를 비교하여 어떤 구성이 가장 성능이 우수한지 확인할 수 있습니다.\n",
        "\n",
        "은닉 유닛의 수를 늘리거나 줄이기:\n",
        "\n",
        "각 은닉층의 유닛 수를 조정하여 모델의 용량(capacity)을 조절할 수 있습니다. layers.Dense 인스턴스의 units 매개변수를 수정하여 은닉층의 유닛 수를 변경할 수 있습니다.\n",
        "은닉 유닛 수를 늘리면 모델이 복잡한 패턴을 학습할 수 있는 능력이 증가하지만, 과적합의 위험이 높아질 수 있습니다. 반면에 은닉 유닛 수를 줄이면 모델의 용량이 줄어들지만 과적합을 방지할 수 있습니다.\n",
        "\n",
        "binary_crossentropy 대신 mse 손실 함수 사용하기:\n",
        "\n",
        "모델 컴파일 시 사용되는 손실 함수를 binary_crossentropy에서 mse (Mean Squared Error)로 변경할 수 있습니다. 이는 model.compile() 함수의 loss 매개변수를 수정하여 수행할 수 있습니다.\n",
        "MSE 손실 함수는 회귀 문제에서 주로 사용됩니다. 이진 분류 작업에 대해 이것이 binary crossentropy와 비교하여 어떻게 성능이 나오는지 확인할 수 있습니다.\n",
        "\n",
        "relu 대신 tanh 활성화 함수 사용하기:\n",
        "\n",
        "은닉층에서 사용되는 활성화 함수를 relu에서 tanh로 변경할 수 있습니다. 이는 layers.Dense 인스턴스의 activation 매개변수를 수정하여 수행할 수 있습니다.\n",
        "Tanh 활성화 함수는 출력을 [-1, 1] 범위로 압축합니다. 이는 ReLU와는 다른 효과를 가져올 수 있습니다.\n",
        "\n",
        "로지스틱 회귀 모델 피팅하기:\n",
        "\n",
        "Sequential 모델을 사용하여 로지스틱 회귀를 구현할 수 있습니다. 하나의 layers.Dense 출력층만 사용하고 sigmoid 활성화 함수를 사용합니다.\n",
        "로지스틱 회귀는 이진 분류를 위한 선형 모델입니다. 이러한 간단한 모델을 훈련하고 평가하여 신경망 모델과 비교해볼 수 있습니다."
      ],
      "metadata": {
        "id": "rYXHkl-qF8R5"
      }
    },
    {
      "cell_type": "markdown",
      "metadata": {
        "id": "1GvnURGnRyeL"
      },
      "source": [
        "### 추가 실험"
      ]
    },
    {
      "cell_type": "markdown",
      "metadata": {
        "id": "wx8OWuKGRyeL"
      },
      "source": [
        "### 정리"
      ]
    },
    {
      "cell_type": "markdown",
      "metadata": {
        "id": "fjJG1lKSRyeL"
      },
      "source": [
        "## 뉴스 기사 분류: 다중 분류 문제"
      ]
    },
    {
      "cell_type": "markdown",
      "metadata": {
        "id": "jGWt2Xp0RyeM"
      },
      "source": [
        "### 로이터 데이터셋"
      ]
    },
    {
      "cell_type": "markdown",
      "metadata": {
        "id": "jxiQdKzgRyeM"
      },
      "source": [
        "**로이터 데이터셋 로드하기**"
      ]
    },
    {
      "cell_type": "code",
      "execution_count": null,
      "metadata": {
        "execution": {
          "iopub.execute_input": "2022-05-21T00:58:55.791733Z",
          "iopub.status.busy": "2022-05-21T00:58:55.790885Z",
          "iopub.status.idle": "2022-05-21T00:58:57.939572Z",
          "shell.execute_reply": "2022-05-21T00:58:57.938613Z"
        },
        "id": "8qf7A4Y5RyeM",
        "outputId": "93ff29e2-bdb3-4077-e86c-27483bf24f44",
        "colab": {
          "base_uri": "https://localhost:8080/"
        }
      },
      "outputs": [
        {
          "output_type": "stream",
          "name": "stdout",
          "text": [
            "Downloading data from https://storage.googleapis.com/tensorflow/tf-keras-datasets/reuters.npz\n",
            "2110848/2110848 [==============================] - 1s 1us/step\n"
          ]
        }
      ],
      "source": [
        "from tensorflow.keras.datasets import reuters\n",
        "(train_data, train_labels), (test_data, test_labels) = reuters.load_data(\n",
        "    num_words=10000)"
      ]
    },
    {
      "cell_type": "code",
      "execution_count": null,
      "metadata": {
        "execution": {
          "iopub.execute_input": "2022-05-21T00:58:57.945213Z",
          "iopub.status.busy": "2022-05-21T00:58:57.944384Z",
          "iopub.status.idle": "2022-05-21T00:58:57.949630Z",
          "shell.execute_reply": "2022-05-21T00:58:57.948847Z"
        },
        "id": "AQi1eT92RyeN",
        "outputId": "3ae9b177-5a1d-481c-d10f-57bae933dba8",
        "colab": {
          "base_uri": "https://localhost:8080/"
        }
      },
      "outputs": [
        {
          "output_type": "execute_result",
          "data": {
            "text/plain": [
              "8982"
            ]
          },
          "metadata": {},
          "execution_count": 22
        }
      ],
      "source": [
        "len(train_data)"
      ]
    },
    {
      "cell_type": "code",
      "execution_count": null,
      "metadata": {
        "execution": {
          "iopub.execute_input": "2022-05-21T00:58:57.953105Z",
          "iopub.status.busy": "2022-05-21T00:58:57.952847Z",
          "iopub.status.idle": "2022-05-21T00:58:57.957221Z",
          "shell.execute_reply": "2022-05-21T00:58:57.956497Z"
        },
        "id": "HdsaMadiRyeN",
        "outputId": "2ecf03f1-8b7b-411c-c60e-e504f1f82583",
        "colab": {
          "base_uri": "https://localhost:8080/"
        }
      },
      "outputs": [
        {
          "output_type": "execute_result",
          "data": {
            "text/plain": [
              "2246"
            ]
          },
          "metadata": {},
          "execution_count": 23
        }
      ],
      "source": [
        "len(test_data)"
      ]
    },
    {
      "cell_type": "code",
      "execution_count": null,
      "metadata": {
        "execution": {
          "iopub.execute_input": "2022-05-21T00:58:57.960663Z",
          "iopub.status.busy": "2022-05-21T00:58:57.960413Z",
          "iopub.status.idle": "2022-05-21T00:58:57.965646Z",
          "shell.execute_reply": "2022-05-21T00:58:57.964973Z"
        },
        "id": "FWjzpVJWRyeO",
        "outputId": "6f54b0aa-a3db-4d16-b343-67f3d5388b05",
        "colab": {
          "base_uri": "https://localhost:8080/"
        }
      },
      "outputs": [
        {
          "output_type": "execute_result",
          "data": {
            "text/plain": [
              "[1,\n",
              " 245,\n",
              " 273,\n",
              " 207,\n",
              " 156,\n",
              " 53,\n",
              " 74,\n",
              " 160,\n",
              " 26,\n",
              " 14,\n",
              " 46,\n",
              " 296,\n",
              " 26,\n",
              " 39,\n",
              " 74,\n",
              " 2979,\n",
              " 3554,\n",
              " 14,\n",
              " 46,\n",
              " 4689,\n",
              " 4329,\n",
              " 86,\n",
              " 61,\n",
              " 3499,\n",
              " 4795,\n",
              " 14,\n",
              " 61,\n",
              " 451,\n",
              " 4329,\n",
              " 17,\n",
              " 12]"
            ]
          },
          "metadata": {},
          "execution_count": 24
        }
      ],
      "source": [
        "train_data[10]"
      ]
    },
    {
      "cell_type": "markdown",
      "metadata": {
        "id": "ou52UiQ2RyeO"
      },
      "source": [
        "**로이터 데이터셋을 텍스트로 디코딩하기**"
      ]
    },
    {
      "cell_type": "code",
      "execution_count": null,
      "metadata": {
        "execution": {
          "iopub.execute_input": "2022-05-21T00:58:57.969038Z",
          "iopub.status.busy": "2022-05-21T00:58:57.968769Z",
          "iopub.status.idle": "2022-05-21T00:58:58.606123Z",
          "shell.execute_reply": "2022-05-21T00:58:58.605366Z"
        },
        "id": "UhI3hCQvRyeO",
        "outputId": "5774a6d4-55fc-40d6-a821-6a7b8144dcf5",
        "colab": {
          "base_uri": "https://localhost:8080/"
        }
      },
      "outputs": [
        {
          "output_type": "stream",
          "name": "stdout",
          "text": [
            "Downloading data from https://storage.googleapis.com/tensorflow/tf-keras-datasets/reuters_word_index.json\n",
            "550378/550378 [==============================] - 1s 1us/step\n"
          ]
        }
      ],
      "source": [
        "word_index = reuters.get_word_index()\n",
        "reverse_word_index = dict([(value, key) for (key, value) in word_index.items()])\n",
        "decoded_newswire = \" \".join([reverse_word_index.get(i - 3, \"?\") for i in\n",
        "    train_data[0]])"
      ]
    },
    {
      "cell_type": "code",
      "execution_count": null,
      "metadata": {
        "execution": {
          "iopub.execute_input": "2022-05-21T00:58:58.610817Z",
          "iopub.status.busy": "2022-05-21T00:58:58.609932Z",
          "iopub.status.idle": "2022-05-21T00:58:58.615565Z",
          "shell.execute_reply": "2022-05-21T00:58:58.614707Z"
        },
        "id": "_dX4yM26RyeO",
        "outputId": "eb4c44e0-3cca-43dd-dbe8-547aca45a37d",
        "colab": {
          "base_uri": "https://localhost:8080/"
        }
      },
      "outputs": [
        {
          "output_type": "execute_result",
          "data": {
            "text/plain": [
              "3"
            ]
          },
          "metadata": {},
          "execution_count": 26
        }
      ],
      "source": [
        "train_labels[10]"
      ]
    },
    {
      "cell_type": "markdown",
      "metadata": {
        "id": "Qt1koPzGRyeP"
      },
      "source": [
        "### 데이터 준비"
      ]
    },
    {
      "cell_type": "markdown",
      "metadata": {
        "id": "bwQGYNQORyeP"
      },
      "source": [
        "**데이터 인코딩하기**"
      ]
    },
    {
      "cell_type": "code",
      "execution_count": null,
      "metadata": {
        "execution": {
          "iopub.execute_input": "2022-05-21T00:58:58.619093Z",
          "iopub.status.busy": "2022-05-21T00:58:58.618809Z",
          "iopub.status.idle": "2022-05-21T00:58:58.993179Z",
          "shell.execute_reply": "2022-05-21T00:58:58.992334Z"
        },
        "id": "Z3QCG9WCRyeP"
      },
      "outputs": [],
      "source": [
        "x_train = vectorize_sequences(train_data)\n",
        "x_test = vectorize_sequences(test_data)"
      ]
    },
    {
      "cell_type": "markdown",
      "metadata": {
        "id": "fdQHSLwjRyeQ"
      },
      "source": [
        "**레이블 인코딩하기**"
      ]
    },
    {
      "cell_type": "code",
      "execution_count": null,
      "metadata": {
        "execution": {
          "iopub.execute_input": "2022-05-21T00:58:58.998170Z",
          "iopub.status.busy": "2022-05-21T00:58:58.997459Z",
          "iopub.status.idle": "2022-05-21T00:58:59.006393Z",
          "shell.execute_reply": "2022-05-21T00:58:59.005391Z"
        },
        "id": "S-E6ROygRyeQ"
      },
      "outputs": [],
      "source": [
        "def to_one_hot(labels, dimension=46):\n",
        "    results = np.zeros((len(labels), dimension))\n",
        "    for i, label in enumerate(labels):\n",
        "        results[i, label] = 1.\n",
        "    return results\n",
        "y_train = to_one_hot(train_labels)\n",
        "y_test = to_one_hot(test_labels)"
      ]
    },
    {
      "cell_type": "code",
      "execution_count": null,
      "metadata": {
        "execution": {
          "iopub.execute_input": "2022-05-21T00:58:59.010347Z",
          "iopub.status.busy": "2022-05-21T00:58:59.010045Z",
          "iopub.status.idle": "2022-05-21T00:58:59.015326Z",
          "shell.execute_reply": "2022-05-21T00:58:59.014567Z"
        },
        "id": "I-7VmPp0RyeQ"
      },
      "outputs": [],
      "source": [
        "from tensorflow.keras.utils import to_categorical\n",
        "y_train = to_categorical(train_labels)\n",
        "y_test = to_categorical(test_labels)"
      ]
    },
    {
      "cell_type": "markdown",
      "metadata": {
        "id": "7CVrNaGrRyeQ"
      },
      "source": [
        "### 모델 구성"
      ]
    },
    {
      "cell_type": "markdown",
      "metadata": {
        "id": "uv-3olCoRyeR"
      },
      "source": [
        "**모델 정의하기**"
      ]
    },
    {
      "cell_type": "code",
      "execution_count": null,
      "metadata": {
        "execution": {
          "iopub.execute_input": "2022-05-21T00:58:59.019228Z",
          "iopub.status.busy": "2022-05-21T00:58:59.018698Z",
          "iopub.status.idle": "2022-05-21T00:58:59.027548Z",
          "shell.execute_reply": "2022-05-21T00:58:59.026784Z"
        },
        "id": "sLqB1E6MRyeR"
      },
      "outputs": [],
      "source": [
        "model = keras.Sequential([\n",
        "    layers.Dense(64, activation=\"relu\"),\n",
        "    layers.Dense(64, activation=\"relu\"),\n",
        "    layers.Dense(46, activation=\"softmax\")\n",
        "])"
      ]
    },
    {
      "cell_type": "markdown",
      "metadata": {
        "id": "guMVZpUNRyeR"
      },
      "source": [
        "**모델 컴파일하기**"
      ]
    },
    {
      "cell_type": "code",
      "execution_count": null,
      "metadata": {
        "execution": {
          "iopub.execute_input": "2022-05-21T00:58:59.031190Z",
          "iopub.status.busy": "2022-05-21T00:58:59.030669Z",
          "iopub.status.idle": "2022-05-21T00:58:59.039143Z",
          "shell.execute_reply": "2022-05-21T00:58:59.038300Z"
        },
        "id": "YXWBBKnPRyeY"
      },
      "outputs": [],
      "source": [
        "model.compile(optimizer=\"rmsprop\",\n",
        "              loss=\"categorical_crossentropy\",\n",
        "              metrics=[\"accuracy\"])"
      ]
    },
    {
      "cell_type": "markdown",
      "metadata": {
        "id": "QwUx1dQ_RyeY"
      },
      "source": [
        "### 훈련 검증"
      ]
    },
    {
      "cell_type": "markdown",
      "metadata": {
        "id": "cOeH0p6lRyeZ"
      },
      "source": [
        "**검증 세트 준비하기**"
      ]
    },
    {
      "cell_type": "code",
      "execution_count": null,
      "metadata": {
        "execution": {
          "iopub.execute_input": "2022-05-21T00:58:59.043039Z",
          "iopub.status.busy": "2022-05-21T00:58:59.042528Z",
          "iopub.status.idle": "2022-05-21T00:58:59.047024Z",
          "shell.execute_reply": "2022-05-21T00:58:59.046046Z"
        },
        "id": "wqLWYJVlRyeZ"
      },
      "outputs": [],
      "source": [
        "x_val = x_train[:1000]\n",
        "partial_x_train = x_train[1000:]\n",
        "y_val = y_train[:1000]\n",
        "partial_y_train = y_train[1000:]"
      ]
    },
    {
      "cell_type": "markdown",
      "metadata": {
        "id": "tIRPgk9zRyeZ"
      },
      "source": [
        "**모델 훈련하기**"
      ]
    },
    {
      "cell_type": "code",
      "execution_count": null,
      "metadata": {
        "execution": {
          "iopub.execute_input": "2022-05-21T00:58:59.050590Z",
          "iopub.status.busy": "2022-05-21T00:58:59.050211Z",
          "iopub.status.idle": "2022-05-21T00:59:10.041884Z",
          "shell.execute_reply": "2022-05-21T00:59:10.040973Z"
        },
        "id": "aIGzzDunRyeZ",
        "outputId": "71319e7e-8836-4f40-db5d-0fc4031c069d",
        "colab": {
          "base_uri": "https://localhost:8080/"
        }
      },
      "outputs": [
        {
          "output_type": "stream",
          "name": "stdout",
          "text": [
            "Epoch 1/20\n",
            "16/16 [==============================] - 1s 29ms/step - loss: 2.8555 - accuracy: 0.4966 - val_loss: 1.9209 - val_accuracy: 0.6089\n",
            "Epoch 2/20\n",
            "16/16 [==============================] - 0s 11ms/step - loss: 1.5479 - accuracy: 0.6865 - val_loss: 1.4043 - val_accuracy: 0.7051\n",
            "Epoch 3/20\n",
            "16/16 [==============================] - 0s 11ms/step - loss: 1.1562 - accuracy: 0.7534 - val_loss: 1.2119 - val_accuracy: 0.7388\n",
            "Epoch 4/20\n",
            "16/16 [==============================] - 0s 11ms/step - loss: 0.9419 - accuracy: 0.7974 - val_loss: 1.0879 - val_accuracy: 0.7651\n",
            "Epoch 5/20\n",
            "16/16 [==============================] - 0s 12ms/step - loss: 0.7847 - accuracy: 0.8311 - val_loss: 1.0498 - val_accuracy: 0.7651\n",
            "Epoch 6/20\n",
            "16/16 [==============================] - 0s 11ms/step - loss: 0.6616 - accuracy: 0.8628 - val_loss: 0.9561 - val_accuracy: 0.7959\n",
            "Epoch 7/20\n",
            "16/16 [==============================] - 0s 11ms/step - loss: 0.5576 - accuracy: 0.8823 - val_loss: 0.9146 - val_accuracy: 0.8149\n",
            "Epoch 8/20\n",
            "16/16 [==============================] - 0s 11ms/step - loss: 0.4722 - accuracy: 0.8989 - val_loss: 0.8960 - val_accuracy: 0.8101\n",
            "Epoch 9/20\n",
            "16/16 [==============================] - 0s 11ms/step - loss: 0.3975 - accuracy: 0.9175 - val_loss: 0.9019 - val_accuracy: 0.8110\n",
            "Epoch 10/20\n",
            "16/16 [==============================] - 0s 12ms/step - loss: 0.3506 - accuracy: 0.9238 - val_loss: 0.8872 - val_accuracy: 0.8159\n",
            "Epoch 11/20\n",
            "16/16 [==============================] - 0s 11ms/step - loss: 0.3003 - accuracy: 0.9331 - val_loss: 0.9082 - val_accuracy: 0.8101\n",
            "Epoch 12/20\n",
            "16/16 [==============================] - 0s 11ms/step - loss: 0.2659 - accuracy: 0.9414 - val_loss: 0.9106 - val_accuracy: 0.8159\n",
            "Epoch 13/20\n",
            "16/16 [==============================] - 0s 11ms/step - loss: 0.2394 - accuracy: 0.9429 - val_loss: 0.8779 - val_accuracy: 0.8208\n",
            "Epoch 14/20\n",
            "16/16 [==============================] - 0s 11ms/step - loss: 0.2117 - accuracy: 0.9463 - val_loss: 0.8931 - val_accuracy: 0.8218\n",
            "Epoch 15/20\n",
            "16/16 [==============================] - 0s 11ms/step - loss: 0.1953 - accuracy: 0.9507 - val_loss: 0.9390 - val_accuracy: 0.8052\n",
            "Epoch 16/20\n",
            "16/16 [==============================] - 0s 11ms/step - loss: 0.1831 - accuracy: 0.9507 - val_loss: 0.9253 - val_accuracy: 0.8120\n",
            "Epoch 17/20\n",
            "16/16 [==============================] - 0s 11ms/step - loss: 0.1682 - accuracy: 0.9531 - val_loss: 0.9214 - val_accuracy: 0.8140\n",
            "Epoch 18/20\n",
            "16/16 [==============================] - 0s 11ms/step - loss: 0.1575 - accuracy: 0.9546 - val_loss: 0.9810 - val_accuracy: 0.8081\n",
            "Epoch 19/20\n",
            "16/16 [==============================] - 0s 11ms/step - loss: 0.1514 - accuracy: 0.9561 - val_loss: 0.9990 - val_accuracy: 0.8018\n",
            "Epoch 20/20\n",
            "16/16 [==============================] - 0s 10ms/step - loss: 0.1406 - accuracy: 0.9590 - val_loss: 0.9624 - val_accuracy: 0.8188\n"
          ]
        }
      ],
      "source": [
        "history = model.fit(partial_x_train,\n",
        "                    partial_y_train,\n",
        "                    epochs=20,\n",
        "                    batch_size=512,\n",
        "                    validation_data=(x_val, y_val))"
      ]
    },
    {
      "cell_type": "markdown",
      "metadata": {
        "id": "IgfzW_8qRyea"
      },
      "source": [
        "**훈련과 검증 손실 그리기**"
      ]
    },
    {
      "cell_type": "code",
      "execution_count": null,
      "metadata": {
        "execution": {
          "iopub.execute_input": "2022-05-21T00:59:10.046902Z",
          "iopub.status.busy": "2022-05-21T00:59:10.045757Z",
          "iopub.status.idle": "2022-05-21T00:59:10.179653Z",
          "shell.execute_reply": "2022-05-21T00:59:10.178584Z"
        },
        "id": "SVm8Pe36Ryea",
        "outputId": "ed50e18c-1f0f-4e72-f43f-b5e6fe110d79",
        "colab": {
          "base_uri": "https://localhost:8080/",
          "height": 472
        }
      },
      "outputs": [
        {
          "output_type": "display_data",
          "data": {
            "text/plain": [
              "<Figure size 640x480 with 1 Axes>"
            ],
            "image/png": "[encoded data removed]"
          },
          "metadata": {}
        }
      ],
      "source": [
        "loss = history.history[\"loss\"]\n",
        "val_loss = history.history[\"val_loss\"]\n",
        "epochs = range(1, len(loss) + 1)\n",
        "plt.plot(epochs, loss, \"bo\", label=\"Training loss\")\n",
        "plt.plot(epochs, val_loss, \"b\", label=\"Validation loss\")\n",
        "plt.title(\"Training and validation loss\")\n",
        "plt.xlabel(\"Epochs\")\n",
        "plt.ylabel(\"Loss\")\n",
        "plt.legend()\n",
        "plt.show()"
      ]
    },
    {
      "cell_type": "markdown",
      "metadata": {
        "id": "rqBSs9lwRyea"
      },
      "source": [
        "**훈련과 검증 정확도 그리기**"
      ]
    },
    {
      "cell_type": "code",
      "execution_count": null,
      "metadata": {
        "execution": {
          "iopub.execute_input": "2022-05-21T00:59:10.183642Z",
          "iopub.status.busy": "2022-05-21T00:59:10.183348Z",
          "iopub.status.idle": "2022-05-21T00:59:10.318032Z",
          "shell.execute_reply": "2022-05-21T00:59:10.317232Z"
        },
        "id": "SNmU0tPzRyeb",
        "outputId": "3c6e8ad1-138b-48c2-fd9d-cd60eba4a9ba",
        "colab": {
          "base_uri": "https://localhost:8080/",
          "height": 472
        }
      },
      "outputs": [
        {
          "output_type": "display_data",
          "data": {
            "text/plain": [
              "<Figure size 640x480 with 1 Axes>"
            ],
            "image/png": "[encoded data removed]"
          },
          "metadata": {}
        }
      ],
      "source": [
        "plt.clf()\n",
        "acc = history.history[\"accuracy\"]\n",
        "val_acc = history.history[\"val_accuracy\"]\n",
        "plt.plot(epochs, acc, \"bo\", label=\"Training accuracy\")\n",
        "plt.plot(epochs, val_acc, \"b\", label=\"Validation accuracy\")\n",
        "plt.title(\"Training and validation accuracy\")\n",
        "plt.xlabel(\"Epochs\")\n",
        "plt.ylabel(\"Accuracy\")\n",
        "plt.legend()\n",
        "plt.show()"
      ]
    },
    {
      "cell_type": "markdown",
      "metadata": {
        "id": "QIGN5jk2Ryeb"
      },
      "source": [
        "**모델을 처음부터 다시 훈련하기**"
      ]
    },
    {
      "cell_type": "code",
      "execution_count": null,
      "metadata": {
        "execution": {
          "iopub.execute_input": "2022-05-21T00:59:10.321952Z",
          "iopub.status.busy": "2022-05-21T00:59:10.321440Z",
          "iopub.status.idle": "2022-05-21T00:59:13.836469Z",
          "shell.execute_reply": "2022-05-21T00:59:13.835680Z"
        },
        "id": "DUaioa29Ryeb",
        "outputId": "df2f6d38-2c86-4fcb-dba6-53fecb064a97",
        "colab": {
          "base_uri": "https://localhost:8080/"
        }
      },
      "outputs": [
        {
          "output_type": "stream",
          "name": "stdout",
          "text": [
            "Epoch 1/9\n",
            "18/18 [==============================] - 1s 9ms/step - loss: 2.6152 - accuracy: 0.4507\n",
            "Epoch 2/9\n",
            "18/18 [==============================] - 0s 8ms/step - loss: 1.4795 - accuracy: 0.6821\n",
            "Epoch 3/9\n",
            "18/18 [==============================] - 0s 9ms/step - loss: 1.1260 - accuracy: 0.7500\n",
            "Epoch 4/9\n",
            "18/18 [==============================] - 0s 8ms/step - loss: 0.9209 - accuracy: 0.8022\n",
            "Epoch 5/9\n",
            "18/18 [==============================] - 0s 8ms/step - loss: 0.7642 - accuracy: 0.8359\n",
            "Epoch 6/9\n",
            "18/18 [==============================] - 0s 8ms/step - loss: 0.6392 - accuracy: 0.8613\n",
            "Epoch 7/9\n",
            "18/18 [==============================] - 0s 8ms/step - loss: 0.5444 - accuracy: 0.8828\n",
            "Epoch 8/9\n",
            "18/18 [==============================] - 0s 9ms/step - loss: 0.4631 - accuracy: 0.8994\n",
            "Epoch 9/9\n",
            "18/18 [==============================] - 0s 7ms/step - loss: 0.3972 - accuracy: 0.9155\n",
            "71/71 [==============================] - 0s 3ms/step - loss: 0.9180 - accuracy: 0.7891\n"
          ]
        }
      ],
      "source": [
        "model = keras.Sequential([\n",
        "  layers.Dense(64, activation=\"relu\"),\n",
        "  layers.Dense(64, activation=\"relu\"),\n",
        "  layers.Dense(46, activation=\"softmax\")\n",
        "])\n",
        "model.compile(optimizer=\"rmsprop\",\n",
        "              loss=\"categorical_crossentropy\",\n",
        "              metrics=[\"accuracy\"])\n",
        "model.fit(x_train,\n",
        "          y_train,\n",
        "          epochs=9,\n",
        "          batch_size=512)\n",
        "results = model.evaluate(x_test, y_test)"
      ]
    },
    {
      "cell_type": "code",
      "execution_count": null,
      "metadata": {
        "execution": {
          "iopub.execute_input": "2022-05-21T00:59:13.840276Z",
          "iopub.status.busy": "2022-05-21T00:59:13.839752Z",
          "iopub.status.idle": "2022-05-21T00:59:13.845156Z",
          "shell.execute_reply": "2022-05-21T00:59:13.844286Z"
        },
        "id": "8Uvx5UfiRyec",
        "outputId": "82f9f6ae-196d-4dfa-b2cc-228ade23ebec",
        "colab": {
          "base_uri": "https://localhost:8080/"
        }
      },
      "outputs": [
        {
          "output_type": "execute_result",
          "data": {
            "text/plain": [
              "[0.91796875, 0.7890625]"
            ]
          },
          "metadata": {},
          "execution_count": 37
        }
      ],
      "source": [
        "results"
      ]
    },
    {
      "cell_type": "code",
      "execution_count": null,
      "metadata": {
        "execution": {
          "iopub.execute_input": "2022-05-21T00:59:13.848602Z",
          "iopub.status.busy": "2022-05-21T00:59:13.848317Z",
          "iopub.status.idle": "2022-05-21T00:59:13.854235Z",
          "shell.execute_reply": "2022-05-21T00:59:13.853462Z"
        },
        "id": "wiZnDW9HRyed",
        "outputId": "243b2131-580c-4369-a246-344f1ffffd24",
        "colab": {
          "base_uri": "https://localhost:8080/"
        }
      },
      "outputs": [
        {
          "output_type": "execute_result",
          "data": {
            "text/plain": [
              "0.19367764915405164"
            ]
          },
          "metadata": {},
          "execution_count": 38
        }
      ],
      "source": [
        "import copy\n",
        "test_labels_copy = copy.copy(test_labels)\n",
        "np.random.shuffle(test_labels_copy)\n",
        "hits_array = np.array(test_labels) == np.array(test_labels_copy)\n",
        "hits_array.mean()"
      ]
    },
    {
      "cell_type": "markdown",
      "metadata": {
        "id": "Zt0QjrLiRyed"
      },
      "source": [
        "### 새로운 데이터로 예측하기"
      ]
    },
    {
      "cell_type": "code",
      "execution_count": null,
      "metadata": {
        "execution": {
          "iopub.execute_input": "2022-05-21T00:59:13.858027Z",
          "iopub.status.busy": "2022-05-21T00:59:13.857648Z",
          "iopub.status.idle": "2022-05-21T00:59:14.132815Z",
          "shell.execute_reply": "2022-05-21T00:59:14.131779Z"
        },
        "id": "1rBJrITPRyee",
        "outputId": "ea187e1b-622d-4ac0-ed18-5581854ad730",
        "colab": {
          "base_uri": "https://localhost:8080/"
        }
      },
      "outputs": [
        {
          "output_type": "stream",
          "name": "stdout",
          "text": [
            "71/71 [==============================] - 0s 2ms/step\n"
          ]
        }
      ],
      "source": [
        "predictions = model.predict(x_test)"
      ]
    },
    {
      "cell_type": "code",
      "execution_count": null,
      "metadata": {
        "execution": {
          "iopub.execute_input": "2022-05-21T00:59:14.137393Z",
          "iopub.status.busy": "2022-05-21T00:59:14.136780Z",
          "iopub.status.idle": "2022-05-21T00:59:14.143161Z",
          "shell.execute_reply": "2022-05-21T00:59:14.142127Z"
        },
        "id": "oJm0-6OsRyee",
        "outputId": "34a65b9c-adc1-47a9-faa6-444b7006ec91",
        "colab": {
          "base_uri": "https://localhost:8080/"
        }
      },
      "outputs": [
        {
          "output_type": "execute_result",
          "data": {
            "text/plain": [
              "(46,)"
            ]
          },
          "metadata": {},
          "execution_count": 40
        }
      ],
      "source": [
        "predictions[0].shape"
      ]
    },
    {
      "cell_type": "code",
      "execution_count": null,
      "metadata": {
        "execution": {
          "iopub.execute_input": "2022-05-21T00:59:14.147504Z",
          "iopub.status.busy": "2022-05-21T00:59:14.146927Z",
          "iopub.status.idle": "2022-05-21T00:59:14.152400Z",
          "shell.execute_reply": "2022-05-21T00:59:14.151516Z"
        },
        "id": "iUAzDrwWRyef",
        "outputId": "61aa0eb7-5dc3-48df-dd32-449dfa5d64f1",
        "colab": {
          "base_uri": "https://localhost:8080/"
        }
      },
      "outputs": [
        {
          "output_type": "execute_result",
          "data": {
            "text/plain": [
              "1.0"
            ]
          },
          "metadata": {},
          "execution_count": 41
        }
      ],
      "source": [
        "np.sum(predictions[0])"
      ]
    },
    {
      "cell_type": "code",
      "execution_count": null,
      "metadata": {
        "execution": {
          "iopub.execute_input": "2022-05-21T00:59:14.155905Z",
          "iopub.status.busy": "2022-05-21T00:59:14.155423Z",
          "iopub.status.idle": "2022-05-21T00:59:14.161331Z",
          "shell.execute_reply": "2022-05-21T00:59:14.160581Z"
        },
        "id": "fTJBpMyrRyef",
        "outputId": "5b255e50-da72-437a-d43b-8539ac850886",
        "colab": {
          "base_uri": "https://localhost:8080/"
        }
      },
      "outputs": [
        {
          "output_type": "execute_result",
          "data": {
            "text/plain": [
              "4"
            ]
          },
          "metadata": {},
          "execution_count": 42
        }
      ],
      "source": [
        "np.argmax(predictions[0])"
      ]
    },
    {
      "cell_type": "markdown",
      "metadata": {
        "id": "7BVjZPk3Ryef"
      },
      "source": [
        "### 레이블과 손실을 다루는 다른 방법"
      ]
    },
    {
      "cell_type": "code",
      "execution_count": null,
      "metadata": {
        "execution": {
          "iopub.execute_input": "2022-05-21T00:59:14.165413Z",
          "iopub.status.busy": "2022-05-21T00:59:14.164794Z",
          "iopub.status.idle": "2022-05-21T00:59:14.169329Z",
          "shell.execute_reply": "2022-05-21T00:59:14.168565Z"
        },
        "id": "eU3w1wAtRyef"
      },
      "outputs": [],
      "source": [
        "y_train = np.array(train_labels)\n",
        "y_test = np.array(test_labels)"
      ]
    },
    {
      "cell_type": "code",
      "execution_count": null,
      "metadata": {
        "execution": {
          "iopub.execute_input": "2022-05-21T00:59:14.173213Z",
          "iopub.status.busy": "2022-05-21T00:59:14.172609Z",
          "iopub.status.idle": "2022-05-21T00:59:14.181387Z",
          "shell.execute_reply": "2022-05-21T00:59:14.180511Z"
        },
        "id": "sUHGzOpeRyeg"
      },
      "outputs": [],
      "source": [
        "model.compile(optimizer=\"rmsprop\",\n",
        "              loss=\"sparse_categorical_crossentropy\",\n",
        "              metrics=[\"accuracy\"])"
      ]
    },
    {
      "cell_type": "markdown",
      "metadata": {
        "id": "xoB6YZbLRyeh"
      },
      "source": [
        "### 충분히 큰 중간 층을 두어야 하는 이유"
      ]
    },
    {
      "cell_type": "markdown",
      "metadata": {
        "id": "L1OwV1cfRyeh"
      },
      "source": [
        "**정보 병목이 있는 모델**"
      ]
    },
    {
      "cell_type": "code",
      "execution_count": null,
      "metadata": {
        "execution": {
          "iopub.execute_input": "2022-05-21T00:59:14.185530Z",
          "iopub.status.busy": "2022-05-21T00:59:14.185022Z",
          "iopub.status.idle": "2022-05-21T00:59:24.040585Z",
          "shell.execute_reply": "2022-05-21T00:59:24.039588Z"
        },
        "id": "E-_EV7p4Ryei",
        "outputId": "8e03488c-d9cc-4d6d-a0ab-752e941feeaa",
        "colab": {
          "base_uri": "https://localhost:8080/"
        }
      },
      "outputs": [
        {
          "output_type": "stream",
          "name": "stdout",
          "text": [
            "Epoch 1/20\n",
            "63/63 [==============================] - 1s 9ms/step - loss: 2.9590 - accuracy: 0.1837 - val_loss: 2.1973 - val_accuracy: 0.5840\n",
            "Epoch 2/20\n",
            "63/63 [==============================] - 0s 6ms/step - loss: 1.7695 - accuracy: 0.6040 - val_loss: 1.5518 - val_accuracy: 0.6201\n",
            "Epoch 3/20\n",
            "63/63 [==============================] - 0s 5ms/step - loss: 1.3965 - accuracy: 0.6401 - val_loss: 1.4033 - val_accuracy: 0.6450\n",
            "Epoch 4/20\n",
            "63/63 [==============================] - 0s 5ms/step - loss: 1.2285 - accuracy: 0.6880 - val_loss: 1.3076 - val_accuracy: 0.6660\n",
            "Epoch 5/20\n",
            "63/63 [==============================] - 0s 5ms/step - loss: 1.1064 - accuracy: 0.7139 - val_loss: 1.2480 - val_accuracy: 0.7021\n",
            "Epoch 6/20\n",
            "63/63 [==============================] - 0s 5ms/step - loss: 1.0010 - accuracy: 0.7549 - val_loss: 1.2129 - val_accuracy: 0.7192\n",
            "Epoch 7/20\n",
            "63/63 [==============================] - 0s 6ms/step - loss: 0.9126 - accuracy: 0.7759 - val_loss: 1.1963 - val_accuracy: 0.7241\n",
            "Epoch 8/20\n",
            "63/63 [==============================] - 0s 5ms/step - loss: 0.8472 - accuracy: 0.7896 - val_loss: 1.1846 - val_accuracy: 0.7280\n",
            "Epoch 9/20\n",
            "63/63 [==============================] - 0s 5ms/step - loss: 0.7876 - accuracy: 0.8008 - val_loss: 1.1797 - val_accuracy: 0.7339\n",
            "Epoch 10/20\n",
            "63/63 [==============================] - 0s 6ms/step - loss: 0.7383 - accuracy: 0.8086 - val_loss: 1.1973 - val_accuracy: 0.7349\n",
            "Epoch 11/20\n",
            "63/63 [==============================] - 0s 5ms/step - loss: 0.7002 - accuracy: 0.8169 - val_loss: 1.2051 - val_accuracy: 0.7402\n",
            "Epoch 12/20\n",
            "63/63 [==============================] - 0s 5ms/step - loss: 0.6641 - accuracy: 0.8228 - val_loss: 1.2461 - val_accuracy: 0.7310\n",
            "Epoch 13/20\n",
            "63/63 [==============================] - 0s 6ms/step - loss: 0.6304 - accuracy: 0.8257 - val_loss: 1.2666 - val_accuracy: 0.7290\n",
            "Epoch 14/20\n",
            "63/63 [==============================] - 0s 5ms/step - loss: 0.6021 - accuracy: 0.8291 - val_loss: 1.2773 - val_accuracy: 0.7422\n",
            "Epoch 15/20\n",
            "63/63 [==============================] - 0s 8ms/step - loss: 0.5762 - accuracy: 0.8315 - val_loss: 1.3018 - val_accuracy: 0.7319\n",
            "Epoch 16/20\n",
            "63/63 [==============================] - 0s 7ms/step - loss: 0.5552 - accuracy: 0.8350 - val_loss: 1.3857 - val_accuracy: 0.7109\n",
            "Epoch 17/20\n",
            "63/63 [==============================] - 0s 7ms/step - loss: 0.5352 - accuracy: 0.8408 - val_loss: 1.3633 - val_accuracy: 0.7271\n",
            "Epoch 18/20\n",
            "63/63 [==============================] - 0s 7ms/step - loss: 0.5166 - accuracy: 0.8457 - val_loss: 1.3760 - val_accuracy: 0.7358\n",
            "Epoch 19/20\n",
            "63/63 [==============================] - 0s 7ms/step - loss: 0.5020 - accuracy: 0.8496 - val_loss: 1.3994 - val_accuracy: 0.7422\n",
            "Epoch 20/20\n",
            "63/63 [==============================] - 0s 5ms/step - loss: 0.4863 - accuracy: 0.8555 - val_loss: 1.4580 - val_accuracy: 0.7339\n"
          ]
        },
        {
          "output_type": "execute_result",
          "data": {
            "text/plain": [
              "<keras.src.callbacks.History at 0x7baea0e6e770>"
            ]
          },
          "metadata": {},
          "execution_count": 45
        }
      ],
      "source": [
        "model = keras.Sequential([\n",
        "    layers.Dense(64, activation=\"relu\"),\n",
        "    layers.Dense(4, activation=\"relu\"),\n",
        "    layers.Dense(46, activation=\"softmax\")\n",
        "])\n",
        "model.compile(optimizer=\"rmsprop\",\n",
        "              loss=\"categorical_crossentropy\",\n",
        "              metrics=[\"accuracy\"])\n",
        "model.fit(partial_x_train,\n",
        "          partial_y_train,\n",
        "          epochs=20,\n",
        "          batch_size=128,\n",
        "          validation_data=(x_val, y_val))"
      ]
    },
    {
      "cell_type": "markdown",
      "metadata": {
        "id": "QRgFhIntRyei"
      },
      "source": [
        "### 추가 실험"
      ]
    },
    {
      "cell_type": "markdown",
      "metadata": {
        "id": "BFtnILDjRyej"
      },
      "source": [
        "### 정리"
      ]
    },
    {
      "cell_type": "markdown",
      "source": [
        "더 크거나 작은 레이어 사용하기:\n",
        "\n",
        "더 큰 레이어 사용 예시:\n",
        "\n",
        "model = keras.Sequential([\n",
        "    layers.Dense(128, activation='relu', input_shape=(num_words,)),\n",
        "    layers.Dense(64, activation='relu'),\n",
        "    layers.Dense(46, activation='softmax')\n",
        "])\n",
        "\n",
        "\n",
        "더 작은 레이어 사용 예시:\n",
        "\n",
        "model = keras.Sequential([\n",
        "    layers.Dense(64, activation='relu', input_shape=(num_words,)),\n",
        "    layers.Dense(32, activation='relu'),\n",
        "    layers.Dense(46, activation='softmax')\n",
        "])\n",
        "\n",
        "\n",
        "단일 은닉층 또는 세 개의 은닉층 사용하기:\n",
        "\n",
        "단일 은닉층 사용 예시:\n",
        "\n",
        "model = keras.Sequential([\n",
        "    layers.Dense(64, activation='relu', input_shape=(num_words,)),\n",
        "    layers.Dense(46, activation='softmax')\n",
        "])\n",
        "\n",
        "\n",
        "세 개의 은닉층 사용 예시:\n",
        "\n",
        "model = keras.Sequential([\n",
        "    layers.Dense(64, activation='relu', input_shape=(num_words,)),\n",
        "    layers.Dense(32, activation='relu'),\n",
        "    layers.Dense(16, activation='relu'),\n",
        "    layers.Dense(46, activation='softmax')\n",
        "])\n",
        "\n",
        "\n",
        "원-핫 인코딩을 사용하지 않고 동일한 문제 해결하기:\n",
        "\n",
        "정수 인코딩 및 손실 함수 변경 예시:\n",
        "\n",
        "model = keras.Sequential([\n",
        "    layers.Dense(64, activation='relu', input_shape=(num_words,)),\n",
        "    layers.Dense(46, activation='softmax')\n",
        "])\n",
        "model.compile(optimizer='rmsprop',\n",
        "              loss='sparse_categorical_crossentropy',\n",
        "              metrics=['accuracy'])"
      ],
      "metadata": {
        "id": "MssZQ_TlIG-c"
      }
    },
    {
      "cell_type": "markdown",
      "metadata": {
        "id": "f0v5NXFkRyej"
      },
      "source": [
        "## 주택 가격 예측: 회귀 문제"
      ]
    },
    {
      "cell_type": "markdown",
      "metadata": {
        "id": "EiShhudRRyej"
      },
      "source": [
        "### 보스턴 주택 가격 데이터셋"
      ]
    },
    {
      "cell_type": "markdown",
      "metadata": {
        "id": "PMOE4E-fRyek"
      },
      "source": [
        "**보스턴 주택 데이터셋 로드하기**"
      ]
    },
    {
      "cell_type": "code",
      "execution_count": 28,
      "metadata": {
        "execution": {
          "iopub.execute_input": "2022-05-21T00:59:24.045461Z",
          "iopub.status.busy": "2022-05-21T00:59:24.044756Z",
          "iopub.status.idle": "2022-05-21T00:59:24.724575Z",
          "shell.execute_reply": "2022-05-21T00:59:24.723670Z"
        },
        "id": "9TVqKPRpRyek"
      },
      "outputs": [],
      "source": [
        "from tensorflow.keras.datasets import boston_housing\n",
        "(train_data, train_targets), (test_data, test_targets) = boston_housing.load_data()"
      ]
    },
    {
      "cell_type": "code",
      "execution_count": 29,
      "metadata": {
        "execution": {
          "iopub.execute_input": "2022-05-21T00:59:24.729145Z",
          "iopub.status.busy": "2022-05-21T00:59:24.728397Z",
          "iopub.status.idle": "2022-05-21T00:59:24.734773Z",
          "shell.execute_reply": "2022-05-21T00:59:24.733860Z"
        },
        "id": "p_5GRHojRyek",
        "outputId": "c6ea7c59-37df-4a11-8bfb-49598472d18d",
        "colab": {
          "base_uri": "https://localhost:8080/"
        }
      },
      "outputs": [
        {
          "output_type": "execute_result",
          "data": {
            "text/plain": [
              "(404, 13)"
            ]
          },
          "metadata": {},
          "execution_count": 29
        }
      ],
      "source": [
        "train_data.shape"
      ]
    },
    {
      "cell_type": "code",
      "execution_count": 30,
      "metadata": {
        "execution": {
          "iopub.execute_input": "2022-05-21T00:59:24.738274Z",
          "iopub.status.busy": "2022-05-21T00:59:24.737701Z",
          "iopub.status.idle": "2022-05-21T00:59:24.743314Z",
          "shell.execute_reply": "2022-05-21T00:59:24.742477Z"
        },
        "id": "GtlvnaKPRyek",
        "outputId": "7c5bd0e7-2c20-4a55-8851-a7a35689b3c2",
        "colab": {
          "base_uri": "https://localhost:8080/"
        }
      },
      "outputs": [
        {
          "output_type": "execute_result",
          "data": {
            "text/plain": [
              "(102, 13)"
            ]
          },
          "metadata": {},
          "execution_count": 30
        }
      ],
      "source": [
        "test_data.shape"
      ]
    },
    {
      "cell_type": "code",
      "execution_count": 31,
      "metadata": {
        "execution": {
          "iopub.execute_input": "2022-05-21T00:59:24.747014Z",
          "iopub.status.busy": "2022-05-21T00:59:24.746258Z",
          "iopub.status.idle": "2022-05-21T00:59:24.755724Z",
          "shell.execute_reply": "2022-05-21T00:59:24.754731Z"
        },
        "id": "Him5rrWrRyel",
        "outputId": "8c581a21-c6a9-4727-a7ca-1b9459da3e26",
        "colab": {
          "base_uri": "https://localhost:8080/"
        }
      },
      "outputs": [
        {
          "output_type": "execute_result",
          "data": {
            "text/plain": [
              "array([15.2, 42.3, 50. , 21.1, 17.7, 18.5, 11.3, 15.6, 15.6, 14.4, 12.1,\n",
              "       17.9, 23.1, 19.9, 15.7,  8.8, 50. , 22.5, 24.1, 27.5, 10.9, 30.8,\n",
              "       32.9, 24. , 18.5, 13.3, 22.9, 34.7, 16.6, 17.5, 22.3, 16.1, 14.9,\n",
              "       23.1, 34.9, 25. , 13.9, 13.1, 20.4, 20. , 15.2, 24.7, 22.2, 16.7,\n",
              "       12.7, 15.6, 18.4, 21. , 30.1, 15.1, 18.7,  9.6, 31.5, 24.8, 19.1,\n",
              "       22. , 14.5, 11. , 32. , 29.4, 20.3, 24.4, 14.6, 19.5, 14.1, 14.3,\n",
              "       15.6, 10.5,  6.3, 19.3, 19.3, 13.4, 36.4, 17.8, 13.5, 16.5,  8.3,\n",
              "       14.3, 16. , 13.4, 28.6, 43.5, 20.2, 22. , 23. , 20.7, 12.5, 48.5,\n",
              "       14.6, 13.4, 23.7, 50. , 21.7, 39.8, 38.7, 22.2, 34.9, 22.5, 31.1,\n",
              "       28.7, 46. , 41.7, 21. , 26.6, 15. , 24.4, 13.3, 21.2, 11.7, 21.7,\n",
              "       19.4, 50. , 22.8, 19.7, 24.7, 36.2, 14.2, 18.9, 18.3, 20.6, 24.6,\n",
              "       18.2,  8.7, 44. , 10.4, 13.2, 21.2, 37. , 30.7, 22.9, 20. , 19.3,\n",
              "       31.7, 32. , 23.1, 18.8, 10.9, 50. , 19.6,  5. , 14.4, 19.8, 13.8,\n",
              "       19.6, 23.9, 24.5, 25. , 19.9, 17.2, 24.6, 13.5, 26.6, 21.4, 11.9,\n",
              "       22.6, 19.6,  8.5, 23.7, 23.1, 22.4, 20.5, 23.6, 18.4, 35.2, 23.1,\n",
              "       27.9, 20.6, 23.7, 28. , 13.6, 27.1, 23.6, 20.6, 18.2, 21.7, 17.1,\n",
              "        8.4, 25.3, 13.8, 22.2, 18.4, 20.7, 31.6, 30.5, 20.3,  8.8, 19.2,\n",
              "       19.4, 23.1, 23. , 14.8, 48.8, 22.6, 33.4, 21.1, 13.6, 32.2, 13.1,\n",
              "       23.4, 18.9, 23.9, 11.8, 23.3, 22.8, 19.6, 16.7, 13.4, 22.2, 20.4,\n",
              "       21.8, 26.4, 14.9, 24.1, 23.8, 12.3, 29.1, 21. , 19.5, 23.3, 23.8,\n",
              "       17.8, 11.5, 21.7, 19.9, 25. , 33.4, 28.5, 21.4, 24.3, 27.5, 33.1,\n",
              "       16.2, 23.3, 48.3, 22.9, 22.8, 13.1, 12.7, 22.6, 15. , 15.3, 10.5,\n",
              "       24. , 18.5, 21.7, 19.5, 33.2, 23.2,  5. , 19.1, 12.7, 22.3, 10.2,\n",
              "       13.9, 16.3, 17. , 20.1, 29.9, 17.2, 37.3, 45.4, 17.8, 23.2, 29. ,\n",
              "       22. , 18. , 17.4, 34.6, 20.1, 25. , 15.6, 24.8, 28.2, 21.2, 21.4,\n",
              "       23.8, 31. , 26.2, 17.4, 37.9, 17.5, 20. ,  8.3, 23.9,  8.4, 13.8,\n",
              "        7.2, 11.7, 17.1, 21.6, 50. , 16.1, 20.4, 20.6, 21.4, 20.6, 36.5,\n",
              "        8.5, 24.8, 10.8, 21.9, 17.3, 18.9, 36.2, 14.9, 18.2, 33.3, 21.8,\n",
              "       19.7, 31.6, 24.8, 19.4, 22.8,  7.5, 44.8, 16.8, 18.7, 50. , 50. ,\n",
              "       19.5, 20.1, 50. , 17.2, 20.8, 19.3, 41.3, 20.4, 20.5, 13.8, 16.5,\n",
              "       23.9, 20.6, 31.5, 23.3, 16.8, 14. , 33.8, 36.1, 12.8, 18.3, 18.7,\n",
              "       19.1, 29. , 30.1, 50. , 50. , 22. , 11.9, 37.6, 50. , 22.7, 20.8,\n",
              "       23.5, 27.9, 50. , 19.3, 23.9, 22.6, 15.2, 21.7, 19.2, 43.8, 20.3,\n",
              "       33.2, 19.9, 22.5, 32.7, 22. , 17.1, 19. , 15. , 16.1, 25.1, 23.7,\n",
              "       28.7, 37.2, 22.6, 16.4, 25. , 29.8, 22.1, 17.4, 18.1, 30.3, 17.5,\n",
              "       24.7, 12.6, 26.5, 28.7, 13.3, 10.4, 24.4, 23. , 20. , 17.8,  7. ,\n",
              "       11.8, 24.4, 13.8, 19.4, 25.2, 19.4, 19.4, 29.1])"
            ]
          },
          "metadata": {},
          "execution_count": 31
        }
      ],
      "source": [
        "train_targets"
      ]
    },
    {
      "cell_type": "markdown",
      "metadata": {
        "id": "X1yxfVb8Ryel"
      },
      "source": [
        "### 데이터 준비"
      ]
    },
    {
      "cell_type": "markdown",
      "metadata": {
        "id": "8XtRErRzRyem"
      },
      "source": [
        "**데이터 정규화하기**"
      ]
    },
    {
      "cell_type": "code",
      "execution_count": 32,
      "metadata": {
        "execution": {
          "iopub.execute_input": "2022-05-21T00:59:24.759692Z",
          "iopub.status.busy": "2022-05-21T00:59:24.759382Z",
          "iopub.status.idle": "2022-05-21T00:59:24.764808Z",
          "shell.execute_reply": "2022-05-21T00:59:24.763724Z"
        },
        "id": "XYrfTZ5MRyem"
      },
      "outputs": [],
      "source": [
        "mean = train_data.mean(axis=0)\n",
        "train_data -= mean\n",
        "std = train_data.std(axis=0)\n",
        "train_data /= std\n",
        "test_data -= mean\n",
        "test_data /= std"
      ]
    },
    {
      "cell_type": "markdown",
      "metadata": {
        "id": "e3WGqjsFRyem"
      },
      "source": [
        "### 모델 구성"
      ]
    },
    {
      "cell_type": "markdown",
      "metadata": {
        "id": "xWKDgk12Ryem"
      },
      "source": [
        "**모델 정의하기**"
      ]
    },
    {
      "cell_type": "code",
      "execution_count": 33,
      "metadata": {
        "execution": {
          "iopub.execute_input": "2022-05-21T00:59:24.768846Z",
          "iopub.status.busy": "2022-05-21T00:59:24.768214Z",
          "iopub.status.idle": "2022-05-21T00:59:24.773358Z",
          "shell.execute_reply": "2022-05-21T00:59:24.772494Z"
        },
        "id": "MxJO2ZXlRyen"
      },
      "outputs": [],
      "source": [
        "def build_model():\n",
        "    model = keras.Sequential([\n",
        "        layers.Dense(64, activation=\"relu\"),\n",
        "        layers.Dense(64, activation=\"relu\"),\n",
        "        layers.Dense(1)\n",
        "    ])\n",
        "    model.compile(optimizer=\"rmsprop\", loss=\"mse\", metrics=[\"mae\"])\n",
        "    return model"
      ]
    },
    {
      "cell_type": "markdown",
      "metadata": {
        "id": "P3KyOwjXRyen"
      },
      "source": [
        "### K-겹 검증을 사용한 훈련 검증"
      ]
    },
    {
      "cell_type": "markdown",
      "metadata": {
        "id": "Gvnz-7cIRyeo"
      },
      "source": [
        "**K-겹 검증하기**"
      ]
    },
    {
      "cell_type": "code",
      "source": [
        "from tensorflow import keras\n",
        "from tensorflow.keras import layers"
      ],
      "metadata": {
        "id": "cPSwR4zkVIk4"
      },
      "execution_count": 19,
      "outputs": []
    },
    {
      "cell_type": "code",
      "execution_count": 34,
      "metadata": {
        "execution": {
          "iopub.execute_input": "2022-05-21T00:59:24.777180Z",
          "iopub.status.busy": "2022-05-21T00:59:24.776509Z",
          "iopub.status.idle": "2022-05-21T00:59:35.954278Z",
          "shell.execute_reply": "2022-05-21T00:59:35.953206Z"
        },
        "id": "3YFddtBwRyeo",
        "outputId": "7d3d9884-871f-4f6e-ae52-bc584f3e27b9",
        "colab": {
          "base_uri": "https://localhost:8080/"
        }
      },
      "outputs": [
        {
          "output_type": "stream",
          "name": "stdout",
          "text": [
            "#0번째 폴드 처리중\n",
            "#1번째 폴드 처리중\n",
            "#2번째 폴드 처리중\n",
            "#3번째 폴드 처리중\n"
          ]
        }
      ],
      "source": [
        "k = 4\n",
        "num_val_samples = len(train_data) // k\n",
        "num_epochs = 100\n",
        "all_scores = []\n",
        "for i in range(k):\n",
        "    print(f\"#{i}번째 폴드 처리중\")\n",
        "    val_data = train_data[i * num_val_samples: (i + 1) * num_val_samples]\n",
        "    val_targets = train_targets[i * num_val_samples: (i + 1) * num_val_samples]\n",
        "    partial_train_data = np.concatenate(\n",
        "        [train_data[:i * num_val_samples],\n",
        "         train_data[(i + 1) * num_val_samples:]],\n",
        "        axis=0)\n",
        "    partial_train_targets = np.concatenate(\n",
        "        [train_targets[:i * num_val_samples],\n",
        "         train_targets[(i + 1) * num_val_samples:]],\n",
        "        axis=0)\n",
        "    model = build_model()\n",
        "    model.fit(partial_train_data, partial_train_targets,\n",
        "              epochs=num_epochs, batch_size=16, verbose=0)\n",
        "    val_mse, val_mae = model.evaluate(val_data, val_targets, verbose=0)\n",
        "    all_scores.append(val_mae)"
      ]
    },
    {
      "cell_type": "code",
      "execution_count": null,
      "metadata": {
        "execution": {
          "iopub.execute_input": "2022-05-21T00:59:35.958698Z",
          "iopub.status.busy": "2022-05-21T00:59:35.958386Z",
          "iopub.status.idle": "2022-05-21T00:59:35.964375Z",
          "shell.execute_reply": "2022-05-21T00:59:35.963347Z"
        },
        "id": "vUv9Mo3yRyer",
        "outputId": "03611710-613b-4615-86d8-7c9338858ab1",
        "colab": {
          "base_uri": "https://localhost:8080/"
        }
      },
      "outputs": [
        {
          "output_type": "execute_result",
          "data": {
            "text/plain": [
              "[1.962890625, 2.4765625, 2.4921875, 2.42578125]"
            ]
          },
          "metadata": {},
          "execution_count": 53
        }
      ],
      "source": [
        "all_scores"
      ]
    },
    {
      "cell_type": "code",
      "execution_count": null,
      "metadata": {
        "execution": {
          "iopub.execute_input": "2022-05-21T00:59:35.968402Z",
          "iopub.status.busy": "2022-05-21T00:59:35.967929Z",
          "iopub.status.idle": "2022-05-21T00:59:35.973477Z",
          "shell.execute_reply": "2022-05-21T00:59:35.972600Z"
        },
        "id": "e5AFRPuERyes",
        "outputId": "0fb6e24a-bbe4-4b58-cb59-47b04f777551",
        "colab": {
          "base_uri": "https://localhost:8080/"
        }
      },
      "outputs": [
        {
          "output_type": "execute_result",
          "data": {
            "text/plain": [
              "2.33935546875"
            ]
          },
          "metadata": {},
          "execution_count": 54
        }
      ],
      "source": [
        "np.mean(all_scores)"
      ]
    },
    {
      "cell_type": "markdown",
      "metadata": {
        "id": "AbzxHUVFRyes"
      },
      "source": [
        "**각 폴드의 검증 점수를 저장하기**"
      ]
    },
    {
      "cell_type": "code",
      "execution_count": 35,
      "metadata": {
        "execution": {
          "iopub.execute_input": "2022-05-21T00:59:35.977004Z",
          "iopub.status.busy": "2022-05-21T00:59:35.976727Z",
          "iopub.status.idle": "2022-05-21T01:01:15.236431Z",
          "shell.execute_reply": "2022-05-21T01:01:15.235480Z"
        },
        "id": "tBqJ3nGjRyes",
        "outputId": "8dfa5305-7856-4d5b-c948-2c5ccc1fe820",
        "colab": {
          "base_uri": "https://localhost:8080/"
        }
      },
      "outputs": [
        {
          "output_type": "stream",
          "name": "stdout",
          "text": [
            "#0번째 폴드 처리중\n",
            "#1번째 폴드 처리중\n",
            "#2번째 폴드 처리중\n",
            "#3번째 폴드 처리중\n"
          ]
        }
      ],
      "source": [
        "num_epochs = 500\n",
        "all_mae_histories = []\n",
        "for i in range(k):\n",
        "    print(f\"#{i}번째 폴드 처리중\")\n",
        "    val_data = train_data[i * num_val_samples: (i + 1) * num_val_samples]\n",
        "    val_targets = train_targets[i * num_val_samples: (i + 1) * num_val_samples]\n",
        "    partial_train_data = np.concatenate(\n",
        "        [train_data[:i * num_val_samples],\n",
        "         train_data[(i + 1) * num_val_samples:]],\n",
        "        axis=0)\n",
        "    partial_train_targets = np.concatenate(\n",
        "        [train_targets[:i * num_val_samples],\n",
        "         train_targets[(i + 1) * num_val_samples:]],\n",
        "        axis=0)\n",
        "    model = build_model()\n",
        "    history = model.fit(partial_train_data, partial_train_targets,\n",
        "                        validation_data=(val_data, val_targets),\n",
        "                        epochs=num_epochs, batch_size=16, verbose=0)\n",
        "    mae_history = history.history[\"val_mae\"]\n",
        "    all_mae_histories.append(mae_history)"
      ]
    },
    {
      "cell_type": "markdown",
      "metadata": {
        "id": "n7hitqM_Ryet"
      },
      "source": [
        "**K-겹 검증 점수 평균을 기록하기**"
      ]
    },
    {
      "cell_type": "code",
      "execution_count": 36,
      "metadata": {
        "execution": {
          "iopub.execute_input": "2022-05-21T01:01:15.240932Z",
          "iopub.status.busy": "2022-05-21T01:01:15.240614Z",
          "iopub.status.idle": "2022-05-21T01:01:15.249981Z",
          "shell.execute_reply": "2022-05-21T01:01:15.249150Z"
        },
        "id": "kt4SjG3NRyet"
      },
      "outputs": [],
      "source": [
        "average_mae_history = [\n",
        "    np.mean([x[i] for x in all_mae_histories]) for i in range(num_epochs)]"
      ]
    },
    {
      "cell_type": "markdown",
      "metadata": {
        "id": "_TKKh0GDRyet"
      },
      "source": [
        "**검증 점수 그래프 그리기**"
      ]
    },
    {
      "cell_type": "code",
      "execution_count": 38,
      "metadata": {
        "execution": {
          "iopub.execute_input": "2022-05-21T01:01:15.253642Z",
          "iopub.status.busy": "2022-05-21T01:01:15.253118Z",
          "iopub.status.idle": "2022-05-21T01:01:15.366352Z",
          "shell.execute_reply": "2022-05-21T01:01:15.365024Z"
        },
        "id": "pc47qQC4Ryet",
        "outputId": "25183fcb-2392-466e-8669-5516bc0d2391",
        "colab": {
          "base_uri": "https://localhost:8080/",
          "height": 454
        }
      },
      "outputs": [
        {
          "output_type": "display_data",
          "data": {
            "text/plain": [
              "<Figure size 640x480 with 1 Axes>"
            ],
            "image/png": "[encoded data removed]"
          },
          "metadata": {}
        }
      ],
      "source": [
        "import matplotlib.pyplot as plt\n",
        "plt.plot(range(1, len(average_mae_history) + 1), average_mae_history)\n",
        "plt.xlabel(\"Epochs\")\n",
        "plt.ylabel(\"Validation MAE\")\n",
        "plt.show()"
      ]
    },
    {
      "cell_type": "markdown",
      "metadata": {
        "id": "WFRXT2qYRyet"
      },
      "source": [
        "**처음 10개의 데이터 포인트를 제외한 검증 점수 그래프 그리기**"
      ]
    },
    {
      "cell_type": "code",
      "execution_count": 39,
      "metadata": {
        "execution": {
          "iopub.execute_input": "2022-05-21T01:01:15.371320Z",
          "iopub.status.busy": "2022-05-21T01:01:15.371023Z",
          "iopub.status.idle": "2022-05-21T01:01:15.481039Z",
          "shell.execute_reply": "2022-05-21T01:01:15.479606Z"
        },
        "id": "x6VFtaG4Ryeu",
        "outputId": "e1850182-62f3-4c3a-bc86-72437243c227",
        "colab": {
          "base_uri": "https://localhost:8080/",
          "height": 449
        }
      },
      "outputs": [
        {
          "output_type": "display_data",
          "data": {
            "text/plain": [
              "<Figure size 640x480 with 1 Axes>"
            ],
            "image/png": "[encoded data removed]"
          },
          "metadata": {}
        }
      ],
      "source": [
        "truncated_mae_history = average_mae_history[10:]\n",
        "plt.plot(range(1, len(truncated_mae_history) + 1), truncated_mae_history)\n",
        "plt.xlabel(\"Epochs\")\n",
        "plt.ylabel(\"Validation MAE\")\n",
        "plt.show()"
      ]
    },
    {
      "cell_type": "markdown",
      "metadata": {
        "id": "bxO2cIKpRyeu"
      },
      "source": [
        "**최종 모델 훈련하기**"
      ]
    },
    {
      "cell_type": "code",
      "execution_count": 40,
      "metadata": {
        "execution": {
          "iopub.execute_input": "2022-05-21T01:01:15.488214Z",
          "iopub.status.busy": "2022-05-21T01:01:15.487884Z",
          "iopub.status.idle": "2022-05-21T01:01:20.038808Z",
          "shell.execute_reply": "2022-05-21T01:01:20.037674Z"
        },
        "id": "wSGcMeH3Ryev",
        "outputId": "4957f050-d0a0-4e20-bd5d-c31f2f5532b6",
        "colab": {
          "base_uri": "https://localhost:8080/"
        }
      },
      "outputs": [
        {
          "output_type": "stream",
          "name": "stdout",
          "text": [
            "4/4 [==============================] - 0s 6ms/step - loss: 15.6484 - mae: 2.4297\n"
          ]
        }
      ],
      "source": [
        "model = build_model()\n",
        "model.fit(train_data, train_targets,\n",
        "          epochs=130, batch_size=16, verbose=0)\n",
        "test_mse_score, test_mae_score = model.evaluate(test_data, test_targets)"
      ]
    },
    {
      "cell_type": "code",
      "execution_count": null,
      "metadata": {
        "execution": {
          "iopub.execute_input": "2022-05-21T01:01:20.043289Z",
          "iopub.status.busy": "2022-05-21T01:01:20.042592Z",
          "iopub.status.idle": "2022-05-21T01:01:20.049022Z",
          "shell.execute_reply": "2022-05-21T01:01:20.048132Z"
        },
        "id": "_e_S3_P5Ryev",
        "outputId": "ea3d1930-b287-4c35-967c-0495545baddc",
        "colab": {
          "base_uri": "https://localhost:8080/"
        }
      },
      "outputs": [
        {
          "output_type": "execute_result",
          "data": {
            "text/plain": [
              "2.53515625"
            ]
          },
          "metadata": {},
          "execution_count": 60
        }
      ],
      "source": [
        "test_mae_score"
      ]
    },
    {
      "cell_type": "markdown",
      "metadata": {
        "id": "VesXPPJYRyev"
      },
      "source": [
        "### 새로운 데이터에 대해 예측하기"
      ]
    },
    {
      "cell_type": "code",
      "execution_count": 41,
      "metadata": {
        "execution": {
          "iopub.execute_input": "2022-05-21T01:01:20.053135Z",
          "iopub.status.busy": "2022-05-21T01:01:20.052814Z",
          "iopub.status.idle": "2022-05-21T01:01:20.154058Z",
          "shell.execute_reply": "2022-05-21T01:01:20.153234Z"
        },
        "id": "rWLRtftSRyew",
        "outputId": "4a67549b-e8b3-4088-e584-85a252aeeb46",
        "colab": {
          "base_uri": "https://localhost:8080/"
        }
      },
      "outputs": [
        {
          "output_type": "stream",
          "name": "stdout",
          "text": [
            "4/4 [==============================] - 0s 3ms/step\n"
          ]
        },
        {
          "output_type": "execute_result",
          "data": {
            "text/plain": [
              "array([8.125], dtype=float16)"
            ]
          },
          "metadata": {},
          "execution_count": 41
        }
      ],
      "source": [
        "predictions = model.predict(test_data)\n",
        "predictions[0]"
      ]
    },
    {
      "cell_type": "markdown",
      "metadata": {
        "id": "cyvfquV2Ryez"
      },
      "source": [
        "### 정리"
      ]
    },
    {
      "cell_type": "markdown",
      "source": [
        "- Try to visualize results (validation accuracy or validation loss) for comparison\n"
      ],
      "metadata": {
        "id": "VgzAfKCIYbJL"
      }
    },
    {
      "cell_type": "markdown",
      "metadata": {
        "id": "hN6PNjwSRyez"
      },
      "source": [
        "## 요약"
      ]
    }
  ],
  "metadata": {
    "colab": {
      "name": "chapter04_getting-started-with-neural-networks.i",
      "provenance": [],
      "gpuType": "T4",
      "include_colab_link": true
    },
    "kernelspec": {
      "display_name": "default:Python",
      "language": "python",
      "name": "conda-env-default-py"
    },
    "language_info": {
      "codemirror_mode": {
        "name": "ipython",
        "version": 3
      },
      "file_extension": ".py",
      "mimetype": "text/x-python",
      "name": "python",
      "nbconvert_exporter": "python",
      "pygments_lexer": "ipython3",
      "version": "3.9.10"
    },
    "accelerator": "GPU"
  },
  "nbformat": 4,
  "nbformat_minor": 0
}