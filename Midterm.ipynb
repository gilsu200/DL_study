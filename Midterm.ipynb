{
  "nbformat": 4,
  "nbformat_minor": 0,
  "metadata": {
    "colab": {
      "provenance": [],
      "toc_visible": true,
      "authorship_tag": "ABX9TyM2QEBaeqpczpmrA9AfkL3z",
      "include_colab_link": true
    },
    "kernelspec": {
      "name": "python3",
      "display_name": "Python 3"
    },
    "language_info": {
      "name": "python"
    }
  },
  "cells": [
    {
      "cell_type": "markdown",
      "metadata": {
        "id": "view-in-github",
        "colab_type": "text"
      },
      "source": [
        "<a href=\"https://colab.research.google.com/github/gilsu200/DL_study/blob/main/Midterm.ipynb\" target=\"_parent\"><img src=\"https://colab.research.google.com/assets/colab-badge.svg\" alt=\"Open In Colab\"/></a>"
      ]
    },
    {
      "cell_type": "markdown",
      "source": [
        "# A first look at a neural network\n",
        "\n"
      ],
      "metadata": {
        "id": "DBg1o1VT7AfM"
      }
    },
    {
      "cell_type": "markdown",
      "metadata": {
        "id": "nlRV5eGp1qIu"
      },
      "source": [
        "**케라스에서 MNIST 데이터셋 적재하기**"
      ]
    },
    {
      "cell_type": "code",
      "execution_count": null,
      "metadata": {
        "execution": {
          "iopub.execute_input": "2022-05-21T00:57:05.419691Z",
          "iopub.status.busy": "2022-05-21T00:57:05.419221Z",
          "iopub.status.idle": "2022-05-21T00:57:07.931588Z",
          "shell.execute_reply": "2022-05-21T00:57:07.930532Z"
        },
        "id": "Kbsv3tf21qIu"
      },
      "outputs": [],
      "source": [
        "from tensorflow.keras.datasets import mnist\n",
        "(train_images, train_labels), (test_images, test_labels) = mnist.load_data()"
      ]
    },
    {
      "cell_type": "markdown",
      "metadata": {
        "id": "lkR5Kdxs1qIy"
      },
      "source": [
        "**신경망 구조**"
      ]
    },
    {
      "cell_type": "code",
      "execution_count": null,
      "metadata": {
        "execution": {
          "iopub.execute_input": "2022-05-21T00:57:07.991164Z",
          "iopub.status.busy": "2022-05-21T00:57:07.990885Z",
          "iopub.status.idle": "2022-05-21T00:57:08.025097Z",
          "shell.execute_reply": "2022-05-21T00:57:08.023960Z"
        },
        "id": "nGjggIFO1qIy"
      },
      "outputs": [],
      "source": [
        "from tensorflow import keras\n",
        "from tensorflow.keras import layers\n",
        "model = keras.Sequential([\n",
        "    layers.Dense(512, activation=\"relu\"),\n",
        "    layers.Dense(10, activation=\"softmax\")\n",
        "])"
      ]
    },
    {
      "cell_type": "markdown",
      "metadata": {
        "id": "ztkKhME61qIy"
      },
      "source": [
        "**컴파일 단계**"
      ]
    },
    {
      "cell_type": "code",
      "execution_count": null,
      "metadata": {
        "execution": {
          "iopub.execute_input": "2022-05-21T00:57:08.029264Z",
          "iopub.status.busy": "2022-05-21T00:57:08.028955Z",
          "iopub.status.idle": "2022-05-21T00:57:08.043873Z",
          "shell.execute_reply": "2022-05-21T00:57:08.042917Z"
        },
        "id": "XAll1_qf1qIz"
      },
      "outputs": [],
      "source": [
        "model.compile(optimizer=\"rmsprop\",\n",
        "              loss=\"sparse_categorical_crossentropy\",\n",
        "              metrics=[\"accuracy\"])"
      ]
    },
    {
      "cell_type": "markdown",
      "metadata": {
        "id": "IfXepSHu1qIz"
      },
      "source": [
        "**이미지 데이터 준비하기(정규화,실수)**"
      ]
    },
    {
      "cell_type": "code",
      "execution_count": null,
      "metadata": {
        "execution": {
          "iopub.execute_input": "2022-05-21T00:57:08.047878Z",
          "iopub.status.busy": "2022-05-21T00:57:08.047587Z",
          "iopub.status.idle": "2022-05-21T00:57:08.461821Z",
          "shell.execute_reply": "2022-05-21T00:57:08.460699Z"
        },
        "id": "0VedXTKL1qIz"
      },
      "outputs": [],
      "source": [
        "train_images = train_images.reshape((60000, 28 * 28))\n",
        "train_images = train_images.astype(\"float32\") / 255\n",
        "test_images = test_images.reshape((10000, 28 * 28))\n",
        "test_images = test_images.astype(\"float32\") / 255"
      ]
    },
    {
      "cell_type": "markdown",
      "metadata": {
        "id": "r9cuYTKi1qIz"
      },
      "source": [
        "**모델 훈련**"
      ]
    },
    {
      "cell_type": "code",
      "execution_count": null,
      "metadata": {
        "execution": {
          "iopub.execute_input": "2022-05-21T00:57:08.466297Z",
          "iopub.status.busy": "2022-05-21T00:57:08.465542Z",
          "iopub.status.idle": "2022-05-21T00:57:19.300649Z",
          "shell.execute_reply": "2022-05-21T00:57:19.299825Z"
        },
        "id": "LstMGeYK1qIz"
      },
      "outputs": [],
      "source": [
        "model.fit(train_images, train_labels, epochs=5, batch_size=128)"
      ]
    },
    {
      "cell_type": "markdown",
      "metadata": {
        "id": "iQgihs241qI0"
      },
      "source": [
        "**모델을 사용해 예측 만들기**"
      ]
    },
    {
      "cell_type": "code",
      "execution_count": null,
      "metadata": {
        "execution": {
          "iopub.execute_input": "2022-05-21T00:57:19.304176Z",
          "iopub.status.busy": "2022-05-21T00:57:19.303848Z",
          "iopub.status.idle": "2022-05-21T00:57:19.406311Z",
          "shell.execute_reply": "2022-05-21T00:57:19.405251Z"
        },
        "id": "qV8_w05L1qI0"
      },
      "outputs": [],
      "source": [
        "test_digits = test_images[0:10]\n",
        "predictions = model.predict(test_digits)\n",
        "predictions[0]"
      ]
    },
    {
      "cell_type": "markdown",
      "metadata": {
        "id": "xz0O7yfW1qI1"
      },
      "source": [
        "**새로운 데이터에서 모델 평가하기**"
      ]
    },
    {
      "cell_type": "code",
      "execution_count": null,
      "metadata": {
        "execution": {
          "iopub.execute_input": "2022-05-21T00:57:19.437738Z",
          "iopub.status.busy": "2022-05-21T00:57:19.437092Z",
          "iopub.status.idle": "2022-05-21T00:57:20.109805Z",
          "shell.execute_reply": "2022-05-21T00:57:20.109057Z"
        },
        "id": "5n06x08R1qI1"
      },
      "outputs": [],
      "source": [
        "test_loss, test_acc = model.evaluate(test_images, test_labels)\n",
        "print(f\"테스트 정확도: {test_acc}\")"
      ]
    },
    {
      "cell_type": "markdown",
      "source": [
        "# Data representations for neural networks"
      ],
      "metadata": {
        "id": "FhDCq5Ev-Ywp"
      }
    },
    {
      "cell_type": "markdown",
      "metadata": {
        "id": "wKerwOYq1qI3"
      },
      "source": [
        "### 핵심 속성(차원,샘플,타입)"
      ]
    },
    {
      "cell_type": "code",
      "source": [
        "train_images.ndim\n",
        "train_images.shape\n",
        "train_images.dtype"
      ],
      "metadata": {
        "id": "PbP8nS0E_BaH"
      },
      "execution_count": null,
      "outputs": []
    },
    {
      "cell_type": "markdown",
      "metadata": {
        "id": "WY7v3OYg1qI2"
      },
      "source": [
        "### 랭크-3 텐서"
      ]
    },
    {
      "cell_type": "code",
      "source": [
        "x=np.array([[[1,2,3],\n",
        "             [4,5,6],\n",
        "             [7,8,9]],\n",
        "            [[3,2,1],\n",
        "             [6,5,4],\n",
        "             [9,8,7]],\n",
        "            [[1,2,3],\n",
        "             [4,5,6],\n",
        "             [7,8,9]]])\n",
        "x.ndim\n"
      ],
      "metadata": {
        "id": "3AXIgGNl9u9W"
      },
      "execution_count": null,
      "outputs": []
    },
    {
      "cell_type": "markdown",
      "source": [
        "### - mnist 테스트 데이터 세트에서 1번째 숫자 시각화 시도(1번째 숫자 데이터 = test_images[0])"
      ],
      "metadata": {
        "id": "Bklyulb_-mOY"
      }
    },
    {
      "cell_type": "code",
      "source": [
        "import matplotlib.pyplot as plt\n",
        "digit=test_images[0]\n",
        "plt.imshow(digit,cmap=plt.cm.Blues)\n",
        "plt.show()"
      ],
      "metadata": {
        "colab": {
          "base_uri": "https://localhost:8080/",
          "height": 430
        },
        "id": "shy8CMH_-nWQ",
        "outputId": "77d332c9-fa1a-45f1-d62a-22dfae07dcad"
      },
      "execution_count": null,
      "outputs": [
        {
          "output_type": "display_data",
          "data": {
            "text/plain": [
              "<Figure size 640x480 with 1 Axes>"
            ],
            "image/png": "[encoded data removed]"
          },
          "metadata": {}
        }
      ]
    },
    {
      "cell_type": "markdown",
      "source": [
        "### 1번째 숫자를 조작하고 시각화해 보세요."
      ],
      "metadata": {
        "id": "ZsK0IG82BwlQ"
      }
    },
    {
      "cell_type": "code",
      "source": [
        "mani_data=test_images[0,14:,14:]\n",
        "import matplotlib.pyplot as plt\n",
        "digit=mani_data\n",
        "plt.imshow(digit,cmap=plt.cm.Blues)\n",
        "plt.show()"
      ],
      "metadata": {
        "colab": {
          "base_uri": "https://localhost:8080/",
          "height": 430
        },
        "id": "-32aA-TzAGz7",
        "outputId": "c8a696e0-de57-4de1-8b0e-9077ae27817a"
      },
      "execution_count": null,
      "outputs": [
        {
          "output_type": "display_data",
          "data": {
            "text/plain": [
              "<Figure size 640x480 with 1 Axes>"
            ],
            "image/png": "[encoded data removed]"
          },
          "metadata": {}
        }
      ]
    },
    {
      "cell_type": "markdown",
      "metadata": {
        "id": "Up42nxHL1qI6"
      },
      "source": [
        "# The gear of neural networks: tensor operations"
      ]
    },
    {
      "cell_type": "markdown",
      "source": [
        "### Try to use naïve version of relu and add functions."
      ],
      "metadata": {
        "id": "NUZsEqZlErpQ"
      }
    },
    {
      "cell_type": "code",
      "execution_count": null,
      "metadata": {
        "execution": {
          "iopub.execute_input": "2022-05-21T00:57:21.499755Z",
          "iopub.status.busy": "2022-05-21T00:57:21.499215Z",
          "iopub.status.idle": "2022-05-21T00:57:21.503803Z",
          "shell.execute_reply": "2022-05-21T00:57:21.502971Z"
        },
        "id": "t6Z3vq3l1qI6"
      },
      "outputs": [],
      "source": [
        "def naive_relu(x):\n",
        "    assert len(x.shape) == 2\n",
        "    x = x.copy()\n",
        "    for i in range(x.shape[0]):\n",
        "        for j in range(x.shape[1]):\n",
        "            x[i, j] = max(x[i, j], 0)\n",
        "    return x"
      ]
    },
    {
      "cell_type": "code",
      "execution_count": null,
      "metadata": {
        "execution": {
          "iopub.execute_input": "2022-05-21T00:57:21.507340Z",
          "iopub.status.busy": "2022-05-21T00:57:21.506666Z",
          "iopub.status.idle": "2022-05-21T00:57:21.511473Z",
          "shell.execute_reply": "2022-05-21T00:57:21.510630Z"
        },
        "id": "uaoPSZmK1qI6"
      },
      "outputs": [],
      "source": [
        "def naive_add(x, y):\n",
        "    assert len(x.shape) == 2\n",
        "    assert x.shape == y.shape\n",
        "    x = x.copy()\n",
        "    for i in range(x.shape[0]):\n",
        "        for j in range(x.shape[1]):\n",
        "            x[i, j] += y[i, j]\n",
        "    return x"
      ]
    },
    {
      "cell_type": "markdown",
      "source": [
        "### Try to use broadcasting with your own example."
      ],
      "metadata": {
        "id": "8H0JSZrRImg2"
      }
    },
    {
      "cell_type": "code",
      "source": [
        "import numpy as np\n",
        "A = np.array([[1, 2, 3],\n",
        "              [4, 5, 6]])\n",
        "B = np.array([10, 20, 30])\n",
        "result = A + B\n",
        "result"
      ],
      "metadata": {
        "id": "9e7sOtKZIoHJ"
      },
      "execution_count": null,
      "outputs": []
    },
    {
      "cell_type": "markdown",
      "source": [
        "### Try reshaping code"
      ],
      "metadata": {
        "id": "JcSPZkU8GfvD"
      }
    },
    {
      "cell_type": "code",
      "execution_count": null,
      "metadata": {
        "execution": {
          "iopub.execute_input": "2022-05-21T00:57:23.612816Z",
          "iopub.status.busy": "2022-05-21T00:57:23.612353Z",
          "iopub.status.idle": "2022-05-21T00:57:23.615796Z",
          "shell.execute_reply": "2022-05-21T00:57:23.615179Z"
        },
        "id": "Yc92w48C1qI8"
      },
      "outputs": [],
      "source": [
        "train_images = train_images.reshape((60000, 28 * 28))"
      ]
    },
    {
      "cell_type": "code",
      "execution_count": null,
      "metadata": {
        "execution": {
          "iopub.execute_input": "2022-05-21T00:57:23.620077Z",
          "iopub.status.busy": "2022-05-21T00:57:23.619555Z",
          "iopub.status.idle": "2022-05-21T00:57:23.625554Z",
          "shell.execute_reply": "2022-05-21T00:57:23.624598Z"
        },
        "id": "0hKBrXod1qI8"
      },
      "outputs": [],
      "source": [
        "x = np.array([[0., 1.],\n",
        "             [2., 3.],\n",
        "             [4., 5.]])\n",
        "x = x.reshape((6, 1))\n",
        "print(x)"
      ]
    },
    {
      "cell_type": "code",
      "execution_count": null,
      "metadata": {
        "execution": {
          "iopub.execute_input": "2022-05-21T00:57:23.639766Z",
          "iopub.status.busy": "2022-05-21T00:57:23.639078Z",
          "iopub.status.idle": "2022-05-21T00:57:23.644899Z",
          "shell.execute_reply": "2022-05-21T00:57:23.644035Z"
        },
        "id": "Dl9-o-GI1qI8",
        "outputId": "365befe4-1b5f-4e9a-d1a6-ac3541b36ea2",
        "colab": {
          "base_uri": "https://localhost:8080/"
        }
      },
      "outputs": [
        {
          "output_type": "execute_result",
          "data": {
            "text/plain": [
              "(20, 300)"
            ]
          },
          "metadata": {},
          "execution_count": 15
        }
      ],
      "source": [
        "x = np.zeros((300, 20))\n",
        "x = np.transpose(x)\n",
        "x.shape"
      ]
    },
    {
      "cell_type": "markdown",
      "source": [
        "# The engine of neural networks: gradient-based optimization\n"
      ],
      "metadata": {
        "id": "Fs3g0O18HsXk"
      }
    },
    {
      "cell_type": "markdown",
      "source": [
        "### Say x, y are scalar, find derivatives of  f(x,y)=(x^2)*y+x*y+3*y with respect to x and y. (Set x = 2, y = 1 for the calculation)"
      ],
      "metadata": {
        "id": "fYAPkAzdJK_e"
      }
    },
    {
      "cell_type": "code",
      "source": [
        "import tensorflow as tf\n",
        "\n",
        "x = tf.Variable(2.)\n",
        "y = tf.Variable(1.)\n",
        "\n",
        "with tf.GradientTape(persistent=True) as tape:\n",
        "     z = x**2 * y + x * y + 3 * y\n",
        "\n",
        "grad_of_z_wrt_x = tape.gradient(z, x)\n",
        "grad_of_z_wrt_y = tape.gradient(z, y)\n",
        "print(grad_of_z_wrt_x)\n",
        "print(grad_of_z_wrt_y)\n",
        "\n"
      ],
      "metadata": {
        "id": "r9E4r28AJSPE"
      },
      "execution_count": null,
      "outputs": []
    },
    {
      "cell_type": "markdown",
      "source": [
        "### Find derivatives of f(W,b)=(x*W+b) with respect to W and b"
      ],
      "metadata": {
        "id": "PtSDQArUMSe1"
      }
    },
    {
      "cell_type": "code",
      "source": [
        "import tensorflow as tf\n",
        "import numpy as np\n",
        "\n",
        "x = tf.constant(np.array([1., 4., 3.]).reshape(1, 3), dtype=tf.float32)\n",
        "W = tf.Variable(tf.random.uniform((3, 2)), dtype=tf.float32)\n",
        "b = tf.Variable(tf.zeros((2,)), dtype=tf.float32)\n",
        "\n",
        "with tf.GradientTape(persistent=True) as tape:\n",
        "    y = tf.matmul(x, W) + b\n",
        "\n",
        "grad_of_y_wrt_W_and_b = tape.gradient(y, [W, b])\n",
        "print(grad_of_y_wrt_W_and_b)"
      ],
      "metadata": {
        "id": "f19dbsARMLjQ"
      },
      "execution_count": null,
      "outputs": []
    },
    {
      "cell_type": "markdown",
      "source": [
        "### Find derivatives of f(W,b)=(x*W+b)^3 with respect to W and b"
      ],
      "metadata": {
        "id": "NU4vJd5oNN0U"
      }
    },
    {
      "cell_type": "code",
      "source": [
        "import tensorflow as tf\n",
        "import numpy as np\n",
        "\n",
        "x = tf.constant(np.array([1., 4., 3.]).reshape(1, 3), dtype=tf.float32)\n",
        "W = tf.Variable(tf.random.uniform((3, 2)), dtype=tf.float32)\n",
        "b = tf.Variable(tf.zeros((2,)), dtype=tf.float32)\n",
        "\n",
        "with tf.GradientTape(persistent=True) as tape:\n",
        "    y = tf.pow(tf.matmul(x, W) + b, 3)\n",
        "\n",
        "grad_of_y_wrt_W_and_b = tape.gradient(y, [W, b])\n",
        "print(grad_of_y_wrt_W_and_b)\n"
      ],
      "metadata": {
        "id": "RFaB1wYwN1b3"
      },
      "execution_count": null,
      "outputs": []
    },
    {
      "cell_type": "markdown",
      "source": [
        "# Looking back at our first example"
      ],
      "metadata": {
        "id": "VUbvUEwSOGiy"
      }
    },
    {
      "cell_type": "markdown",
      "source": [
        "### Check weights from defined models."
      ],
      "metadata": {
        "id": "x3LtU6RYQMym"
      }
    },
    {
      "cell_type": "markdown",
      "source": [
        "### Try running Naïve version of model and check weights.\n"
      ],
      "metadata": {
        "id": "va2Z0eB3QQWl"
      }
    },
    {
      "cell_type": "markdown",
      "source": [
        "# Intro to keras and tf"
      ],
      "metadata": {
        "id": "96EqVfT0TE-6"
      }
    },
    {
      "cell_type": "markdown",
      "source": [
        "### For two class classification model, try to visualize classification results at batch 5, 10, 15 and 20."
      ],
      "metadata": {
        "id": "Po-BHhbsTJkJ"
      }
    },
    {
      "cell_type": "markdown",
      "source": [
        "###  Try to modify your linear classifier not using bias term (b). Try to fit your model, what happens?\n"
      ],
      "metadata": {
        "id": "Ysm2Ex_IWb2Q"
      }
    },
    {
      "cell_type": "markdown",
      "source": [
        "# Classifying movie reviews"
      ],
      "metadata": {
        "id": "S6XcQ-JGWkEH"
      }
    },
    {
      "cell_type": "code",
      "execution_count": null,
      "metadata": {
        "execution": {
          "iopub.execute_input": "2022-05-21T00:58:24.141645Z",
          "iopub.status.busy": "2022-05-21T00:58:24.140889Z",
          "iopub.status.idle": "2022-05-21T00:58:29.816007Z",
          "shell.execute_reply": "2022-05-21T00:58:29.814955Z"
        },
        "id": "EJIEvVXqRydy"
      },
      "outputs": [],
      "source": [
        "from tensorflow.keras.datasets import imdb\n",
        "(train_data, train_labels), (test_data, test_labels) = imdb.load_data(\n",
        "    num_words=10000)"
      ]
    },
    {
      "cell_type": "code",
      "execution_count": null,
      "metadata": {
        "execution": {
          "iopub.execute_input": "2022-05-21T00:58:30.670103Z",
          "iopub.status.busy": "2022-05-21T00:58:30.669714Z",
          "iopub.status.idle": "2022-05-21T00:58:35.758749Z",
          "shell.execute_reply": "2022-05-21T00:58:35.757888Z"
        },
        "id": "J2YPggO4Ryd6"
      },
      "outputs": [],
      "source": [
        "import numpy as np\n",
        "def vectorize_sequences(sequences, dimension=10000):\n",
        "    results = np.zeros((len(sequences), dimension))\n",
        "    for i, sequence in enumerate(sequences):\n",
        "        for j in sequence:\n",
        "            results[i, j] = 1.\n",
        "    return results\n",
        "x_train = vectorize_sequences(train_data)\n",
        "x_test = vectorize_sequences(test_data)"
      ]
    },
    {
      "cell_type": "code",
      "execution_count": null,
      "metadata": {
        "execution": {
          "iopub.execute_input": "2022-05-21T00:58:35.771822Z",
          "iopub.status.busy": "2022-05-21T00:58:35.771015Z",
          "iopub.status.idle": "2022-05-21T00:58:35.775500Z",
          "shell.execute_reply": "2022-05-21T00:58:35.774750Z"
        },
        "id": "iBw59ZljRyd7"
      },
      "outputs": [],
      "source": [
        "y_train = np.asarray(train_labels).astype(\"float32\")\n",
        "y_test = np.asarray(test_labels).astype(\"float32\")"
      ]
    },
    {
      "cell_type": "code",
      "execution_count": null,
      "metadata": {
        "execution": {
          "iopub.execute_input": "2022-05-21T00:58:35.779731Z",
          "iopub.status.busy": "2022-05-21T00:58:35.779026Z",
          "iopub.status.idle": "2022-05-21T00:58:35.798811Z",
          "shell.execute_reply": "2022-05-21T00:58:35.797834Z"
        },
        "id": "iuTuYC4kRyd9"
      },
      "outputs": [],
      "source": [
        "from tensorflow import keras\n",
        "from tensorflow.keras import layers\n",
        "\n",
        "model = keras.Sequential([\n",
        "    layers.Dense(16, activation=\"relu\"),\n",
        "    layers.Dense(16, activation=\"relu\"),\n",
        "    layers.Dense(1, activation=\"sigmoid\")\n",
        "])"
      ]
    },
    {
      "cell_type": "code",
      "execution_count": null,
      "metadata": {
        "execution": {
          "iopub.execute_input": "2022-05-21T00:58:35.803010Z",
          "iopub.status.busy": "2022-05-21T00:58:35.802409Z",
          "iopub.status.idle": "2022-05-21T00:58:35.815382Z",
          "shell.execute_reply": "2022-05-21T00:58:35.814494Z"
        },
        "id": "KBQeB8kXRyd-"
      },
      "outputs": [],
      "source": [
        "model.compile(optimizer=\"rmsprop\",\n",
        "              loss=\"binary_crossentropy\",\n",
        "              metrics=[\"accuracy\"])"
      ]
    },
    {
      "cell_type": "code",
      "execution_count": null,
      "metadata": {
        "execution": {
          "iopub.execute_input": "2022-05-21T00:58:35.819667Z",
          "iopub.status.busy": "2022-05-21T00:58:35.819032Z",
          "iopub.status.idle": "2022-05-21T00:58:35.824128Z",
          "shell.execute_reply": "2022-05-21T00:58:35.823100Z"
        },
        "id": "SgqzuOPoRyeA"
      },
      "outputs": [],
      "source": [
        "x_val = x_train[:10000]\n",
        "partial_x_train = x_train[10000:]\n",
        "y_val = y_train[:10000]\n",
        "partial_y_train = y_train[10000:]"
      ]
    },
    {
      "cell_type": "code",
      "execution_count": null,
      "metadata": {
        "execution": {
          "iopub.execute_input": "2022-05-21T00:58:35.828086Z",
          "iopub.status.busy": "2022-05-21T00:58:35.827799Z",
          "iopub.status.idle": "2022-05-21T00:58:47.348964Z",
          "shell.execute_reply": "2022-05-21T00:58:47.348136Z"
        },
        "id": "Wsgo70IxRyeA"
      },
      "outputs": [],
      "source": [
        "history = model.fit(partial_x_train,\n",
        "                    partial_y_train,\n",
        "                    epochs=20,\n",
        "                    batch_size=512,\n",
        "                    validation_data=(x_val, y_val))"
      ]
    },
    {
      "cell_type": "code",
      "execution_count": null,
      "metadata": {
        "execution": {
          "iopub.execute_input": "2022-05-21T00:58:47.353728Z",
          "iopub.status.busy": "2022-05-21T00:58:47.352917Z",
          "iopub.status.idle": "2022-05-21T00:58:47.359185Z",
          "shell.execute_reply": "2022-05-21T00:58:47.358228Z"
        },
        "id": "8hVNM3-7RyeB"
      },
      "outputs": [],
      "source": [
        "history_dict = history.history\n",
        "history_dict.keys()"
      ]
    },
    {
      "cell_type": "code",
      "execution_count": null,
      "metadata": {
        "execution": {
          "iopub.execute_input": "2022-05-21T00:58:47.363128Z",
          "iopub.status.busy": "2022-05-21T00:58:47.362820Z",
          "iopub.status.idle": "2022-05-21T00:58:48.134762Z",
          "shell.execute_reply": "2022-05-21T00:58:48.133858Z"
        },
        "id": "wVEVb03vRyeC"
      },
      "outputs": [],
      "source": [
        "import matplotlib.pyplot as plt\n",
        "history_dict = history.history\n",
        "loss_values = history_dict[\"loss\"]\n",
        "val_loss_values = history_dict[\"val_loss\"]\n",
        "epochs = range(1, len(loss_values) + 1)\n",
        "plt.plot(epochs, loss_values, \"bo\", label=\"Training loss\")\n",
        "plt.plot(epochs, val_loss_values, \"b\", label=\"Validation loss\")\n",
        "plt.title(\"Training and validation loss\")\n",
        "plt.xlabel(\"Epochs\")\n",
        "plt.ylabel(\"Loss\")\n",
        "plt.legend()\n",
        "plt.show()"
      ]
    },
    {
      "cell_type": "code",
      "execution_count": null,
      "metadata": {
        "execution": {
          "iopub.execute_input": "2022-05-21T00:58:48.138805Z",
          "iopub.status.busy": "2022-05-21T00:58:48.138316Z",
          "iopub.status.idle": "2022-05-21T00:58:48.508495Z",
          "shell.execute_reply": "2022-05-21T00:58:48.507640Z"
        },
        "id": "4lhxzsBfRyeD"
      },
      "outputs": [],
      "source": [
        "plt.clf()\n",
        "acc = history_dict[\"accuracy\"]\n",
        "val_acc = history_dict[\"val_accuracy\"]\n",
        "plt.plot(epochs, acc, \"bo\", label=\"Training acc\")\n",
        "plt.plot(epochs, val_acc, \"b\", label=\"Validation acc\")\n",
        "plt.title(\"Training and validation accuracy\")\n",
        "plt.xlabel(\"Epochs\")\n",
        "plt.ylabel(\"Accuracy\")\n",
        "plt.legend()\n",
        "plt.show()"
      ]
    },
    {
      "cell_type": "code",
      "execution_count": null,
      "metadata": {
        "execution": {
          "iopub.execute_input": "2022-05-21T00:58:48.512410Z",
          "iopub.status.busy": "2022-05-21T00:58:48.512097Z",
          "iopub.status.idle": "2022-05-21T00:58:53.740167Z",
          "shell.execute_reply": "2022-05-21T00:58:53.739318Z"
        },
        "id": "WdbiqqoXRyeE"
      },
      "outputs": [],
      "source": [
        "model = keras.Sequential([\n",
        "    layers.Dense(16, activation=\"relu\"),\n",
        "    layers.Dense(16, activation=\"relu\"),\n",
        "    layers.Dense(1, activation=\"sigmoid\")\n",
        "])\n",
        "model.compile(optimizer=\"rmsprop\",\n",
        "              loss=\"binary_crossentropy\",\n",
        "              metrics=[\"accuracy\"])\n",
        "model.fit(x_train, y_train, epochs=4, batch_size=512)\n",
        "results = model.evaluate(x_test, y_test)"
      ]
    },
    {
      "cell_type": "code",
      "execution_count": null,
      "metadata": {
        "execution": {
          "iopub.execute_input": "2022-05-21T00:58:53.744082Z",
          "iopub.status.busy": "2022-05-21T00:58:53.743592Z",
          "iopub.status.idle": "2022-05-21T00:58:53.748662Z",
          "shell.execute_reply": "2022-05-21T00:58:53.747996Z"
        },
        "id": "AutNeyvsRyeF"
      },
      "outputs": [],
      "source": [
        "results"
      ]
    },
    {
      "cell_type": "code",
      "execution_count": null,
      "metadata": {
        "execution": {
          "iopub.execute_input": "2022-05-21T00:58:53.753112Z",
          "iopub.status.busy": "2022-05-21T00:58:53.752141Z",
          "iopub.status.idle": "2022-05-21T00:58:55.786729Z",
          "shell.execute_reply": "2022-05-21T00:58:55.785781Z"
        },
        "id": "453lRW_wRyeH"
      },
      "outputs": [],
      "source": [
        "model.predict(x_test)"
      ]
    },
    {
      "cell_type": "markdown",
      "source": [
        "### Try fitting logistic regression, and check validation loss and accuracy\n"
      ],
      "metadata": {
        "id": "sBDiOIARPLkp"
      }
    },
    {
      "cell_type": "code",
      "execution_count": null,
      "metadata": {
        "execution": {
          "iopub.execute_input": "2022-05-21T01:06:11.530131Z",
          "iopub.status.busy": "2022-05-21T01:06:11.529560Z",
          "iopub.status.idle": "2022-05-21T01:06:25.955536Z",
          "shell.execute_reply": "2022-05-21T01:06:25.954654Z"
        },
        "id": "-PlYnHgqPdPG"
      },
      "outputs": [],
      "source": [
        "(train_images, train_labels), _ = mnist.load_data()\n",
        "train_images = train_images.reshape((60000, 28 * 28))\n",
        "train_images = train_images.astype(\"float32\") / 255\n",
        "\n",
        "model = keras.Sequential([layers.Dense(10, activation=\"softmax\")])\n",
        "model.compile(optimizer=\"rmsprop\",\n",
        "              loss=\"sparse_categorical_crossentropy\",\n",
        "              metrics=[\"accuracy\"])\n",
        "history = model.fit(\n",
        "    train_images, train_labels,\n",
        "    epochs=20,\n",
        "    batch_size=128,\n",
        "    validation_split=0.2)"
      ]
    },
    {
      "cell_type": "markdown",
      "source": [
        "# Classifying newswires"
      ],
      "metadata": {
        "id": "jNyRz7e4dU7z"
      }
    },
    {
      "cell_type": "code",
      "execution_count": null,
      "metadata": {
        "execution": {
          "iopub.execute_input": "2022-05-21T00:58:55.791733Z",
          "iopub.status.busy": "2022-05-21T00:58:55.790885Z",
          "iopub.status.idle": "2022-05-21T00:58:57.939572Z",
          "shell.execute_reply": "2022-05-21T00:58:57.938613Z"
        },
        "id": "8qf7A4Y5RyeM",
        "outputId": "344363ec-f6ec-4989-9c67-5e72ecd8cf42",
        "colab": {
          "base_uri": "https://localhost:8080/"
        }
      },
      "outputs": [
        {
          "output_type": "stream",
          "name": "stdout",
          "text": [
            "Downloading data from https://storage.googleapis.com/tensorflow/tf-keras-datasets/reuters.npz\n",
            "2110848/2110848 [==============================] - 1s 0us/step\n"
          ]
        }
      ],
      "source": [
        "from tensorflow.keras.datasets import reuters\n",
        "(train_data, train_labels), (test_data, test_labels) = reuters.load_data(\n",
        "    num_words=10000)"
      ]
    },
    {
      "cell_type": "code",
      "execution_count": null,
      "metadata": {
        "execution": {
          "iopub.execute_input": "2022-05-21T00:58:58.619093Z",
          "iopub.status.busy": "2022-05-21T00:58:58.618809Z",
          "iopub.status.idle": "2022-05-21T00:58:58.993179Z",
          "shell.execute_reply": "2022-05-21T00:58:58.992334Z"
        },
        "id": "Z3QCG9WCRyeP"
      },
      "outputs": [],
      "source": [
        "x_train = vectorize_sequences(train_data)\n",
        "x_test = vectorize_sequences(test_data)"
      ]
    },
    {
      "cell_type": "code",
      "execution_count": null,
      "metadata": {
        "execution": {
          "iopub.execute_input": "2022-05-21T00:58:58.998170Z",
          "iopub.status.busy": "2022-05-21T00:58:58.997459Z",
          "iopub.status.idle": "2022-05-21T00:58:59.006393Z",
          "shell.execute_reply": "2022-05-21T00:58:59.005391Z"
        },
        "id": "S-E6ROygRyeQ"
      },
      "outputs": [],
      "source": [
        "#원핫 인코딩\n",
        "def to_one_hot(labels, dimension=46):\n",
        "    results = np.zeros((len(labels), dimension))\n",
        "    for i, label in enumerate(labels):\n",
        "        results[i, label] = 1.\n",
        "    return results\n",
        "y_train = to_one_hot(train_labels)\n",
        "y_test = to_one_hot(test_labels)"
      ]
    },
    {
      "cell_type": "code",
      "execution_count": null,
      "metadata": {
        "execution": {
          "iopub.execute_input": "2022-05-21T00:58:59.010347Z",
          "iopub.status.busy": "2022-05-21T00:58:59.010045Z",
          "iopub.status.idle": "2022-05-21T00:58:59.015326Z",
          "shell.execute_reply": "2022-05-21T00:58:59.014567Z"
        },
        "id": "I-7VmPp0RyeQ"
      },
      "outputs": [],
      "source": [
        "#원핫 인코딩 내장함수\n",
        "from tensorflow.keras.utils import to_categorical\n",
        "y_train = to_categorical(train_labels)\n",
        "y_test = to_categorical(test_labels)"
      ]
    },
    {
      "cell_type": "code",
      "execution_count": null,
      "metadata": {
        "execution": {
          "iopub.execute_input": "2022-05-21T00:58:59.019228Z",
          "iopub.status.busy": "2022-05-21T00:58:59.018698Z",
          "iopub.status.idle": "2022-05-21T00:58:59.027548Z",
          "shell.execute_reply": "2022-05-21T00:58:59.026784Z"
        },
        "id": "sLqB1E6MRyeR"
      },
      "outputs": [],
      "source": [
        "model = keras.Sequential([\n",
        "    layers.Dense(64, activation=\"relu\"),\n",
        "    layers.Dense(64, activation=\"relu\"),\n",
        "    layers.Dense(46, activation=\"softmax\")\n",
        "])"
      ]
    },
    {
      "cell_type": "code",
      "execution_count": null,
      "metadata": {
        "execution": {
          "iopub.execute_input": "2022-05-21T00:58:59.031190Z",
          "iopub.status.busy": "2022-05-21T00:58:59.030669Z",
          "iopub.status.idle": "2022-05-21T00:58:59.039143Z",
          "shell.execute_reply": "2022-05-21T00:58:59.038300Z"
        },
        "id": "YXWBBKnPRyeY"
      },
      "outputs": [],
      "source": [
        "model.compile(optimizer=\"rmsprop\",\n",
        "              loss=\"categorical_crossentropy\",\n",
        "              metrics=[\"accuracy\"])"
      ]
    },
    {
      "cell_type": "code",
      "execution_count": null,
      "metadata": {
        "execution": {
          "iopub.execute_input": "2022-05-21T00:58:59.043039Z",
          "iopub.status.busy": "2022-05-21T00:58:59.042528Z",
          "iopub.status.idle": "2022-05-21T00:58:59.047024Z",
          "shell.execute_reply": "2022-05-21T00:58:59.046046Z"
        },
        "id": "wqLWYJVlRyeZ"
      },
      "outputs": [],
      "source": [
        "x_val = x_train[:1000]\n",
        "partial_x_train = x_train[1000:]\n",
        "y_val = y_train[:1000]\n",
        "partial_y_train = y_train[1000:]"
      ]
    },
    {
      "cell_type": "code",
      "execution_count": null,
      "metadata": {
        "execution": {
          "iopub.execute_input": "2022-05-21T00:58:59.050590Z",
          "iopub.status.busy": "2022-05-21T00:58:59.050211Z",
          "iopub.status.idle": "2022-05-21T00:59:10.041884Z",
          "shell.execute_reply": "2022-05-21T00:59:10.040973Z"
        },
        "id": "aIGzzDunRyeZ"
      },
      "outputs": [],
      "source": [
        "history = model.fit(partial_x_train,\n",
        "                    partial_y_train,\n",
        "                    epochs=20,\n",
        "                    batch_size=512,\n",
        "                    validation_data=(x_val, y_val))"
      ]
    },
    {
      "cell_type": "code",
      "execution_count": null,
      "metadata": {
        "execution": {
          "iopub.execute_input": "2022-05-21T00:59:10.046902Z",
          "iopub.status.busy": "2022-05-21T00:59:10.045757Z",
          "iopub.status.idle": "2022-05-21T00:59:10.179653Z",
          "shell.execute_reply": "2022-05-21T00:59:10.178584Z"
        },
        "id": "SVm8Pe36Ryea"
      },
      "outputs": [],
      "source": [
        "loss = history.history[\"loss\"]\n",
        "val_loss = history.history[\"val_loss\"]\n",
        "epochs = range(1, len(loss) + 1)\n",
        "plt.plot(epochs, loss, \"bo\", label=\"Training loss\")\n",
        "plt.plot(epochs, val_loss, \"b\", label=\"Validation loss\")\n",
        "plt.title(\"Training and validation loss\")\n",
        "plt.xlabel(\"Epochs\")\n",
        "plt.ylabel(\"Loss\")\n",
        "plt.legend()\n",
        "plt.show()"
      ]
    },
    {
      "cell_type": "code",
      "execution_count": null,
      "metadata": {
        "execution": {
          "iopub.execute_input": "2022-05-21T00:59:10.183642Z",
          "iopub.status.busy": "2022-05-21T00:59:10.183348Z",
          "iopub.status.idle": "2022-05-21T00:59:10.318032Z",
          "shell.execute_reply": "2022-05-21T00:59:10.317232Z"
        },
        "id": "SNmU0tPzRyeb"
      },
      "outputs": [],
      "source": [
        "plt.clf()\n",
        "acc = history.history[\"accuracy\"]\n",
        "val_acc = history.history[\"val_accuracy\"]\n",
        "plt.plot(epochs, acc, \"bo\", label=\"Training accuracy\")\n",
        "plt.plot(epochs, val_acc, \"b\", label=\"Validation accuracy\")\n",
        "plt.title(\"Training and validation accuracy\")\n",
        "plt.xlabel(\"Epochs\")\n",
        "plt.ylabel(\"Accuracy\")\n",
        "plt.legend()\n",
        "plt.show()"
      ]
    },
    {
      "cell_type": "code",
      "execution_count": null,
      "metadata": {
        "execution": {
          "iopub.execute_input": "2022-05-21T00:59:10.321952Z",
          "iopub.status.busy": "2022-05-21T00:59:10.321440Z",
          "iopub.status.idle": "2022-05-21T00:59:13.836469Z",
          "shell.execute_reply": "2022-05-21T00:59:13.835680Z"
        },
        "id": "DUaioa29Ryeb"
      },
      "outputs": [],
      "source": [
        "model = keras.Sequential([\n",
        "  layers.Dense(64, activation=\"relu\"),\n",
        "  layers.Dense(64, activation=\"relu\"),\n",
        "  layers.Dense(46, activation=\"softmax\")\n",
        "])\n",
        "model.compile(optimizer=\"rmsprop\",\n",
        "              loss=\"categorical_crossentropy\",\n",
        "              metrics=[\"accuracy\"])\n",
        "model.fit(x_train,\n",
        "          y_train,\n",
        "          epochs=9,\n",
        "          batch_size=512)\n",
        "results = model.evaluate(x_test, y_test)"
      ]
    },
    {
      "cell_type": "code",
      "execution_count": null,
      "metadata": {
        "execution": {
          "iopub.execute_input": "2022-05-21T00:59:13.840276Z",
          "iopub.status.busy": "2022-05-21T00:59:13.839752Z",
          "iopub.status.idle": "2022-05-21T00:59:13.845156Z",
          "shell.execute_reply": "2022-05-21T00:59:13.844286Z"
        },
        "id": "8Uvx5UfiRyec",
        "outputId": "a4c185cf-d10f-474b-c84c-75d40c9cf5dc",
        "colab": {
          "base_uri": "https://localhost:8080/"
        }
      },
      "outputs": [
        {
          "output_type": "execute_result",
          "data": {
            "text/plain": [
              "[0.940237283706665, 0.7894033789634705]"
            ]
          },
          "metadata": {},
          "execution_count": 51
        }
      ],
      "source": [
        "results"
      ]
    },
    {
      "cell_type": "code",
      "source": [
        "predictions = model.predict(x_test)\n",
        "np.argmax(predictions[0])"
      ],
      "metadata": {
        "id": "bRiuiZk7f1aY"
      },
      "execution_count": null,
      "outputs": []
    },
    {
      "cell_type": "markdown",
      "source": [
        "### Solve the same problem without using one-hot encoding y variable\n"
      ],
      "metadata": {
        "id": "S8m00VA-gDY1"
      }
    },
    {
      "cell_type": "code",
      "execution_count": null,
      "metadata": {
        "execution": {
          "iopub.execute_input": "2022-05-21T00:59:14.165413Z",
          "iopub.status.busy": "2022-05-21T00:59:14.164794Z",
          "iopub.status.idle": "2022-05-21T00:59:14.169329Z",
          "shell.execute_reply": "2022-05-21T00:59:14.168565Z"
        },
        "id": "eU3w1wAtRyef"
      },
      "outputs": [],
      "source": [
        "#원핫 인코딩하지않고 정수텐서로 변환\n",
        "y_train = np.array(train_labels)\n",
        "y_test = np.array(test_labels)"
      ]
    },
    {
      "cell_type": "code",
      "execution_count": null,
      "metadata": {
        "execution": {
          "iopub.execute_input": "2022-05-21T00:59:14.173213Z",
          "iopub.status.busy": "2022-05-21T00:59:14.172609Z",
          "iopub.status.idle": "2022-05-21T00:59:14.181387Z",
          "shell.execute_reply": "2022-05-21T00:59:14.180511Z"
        },
        "id": "sUHGzOpeRyeg"
      },
      "outputs": [],
      "source": [
        "#정수텐서 사용시 categorical_crossentropy대신 sparse_categorical_crossentropy 사용\n",
        "model.compile(optimizer=\"rmsprop\",\n",
        "              loss=\"sparse_categorical_crossentropy\",\n",
        "              metrics=[\"accuracy\"])"
      ]
    },
    {
      "cell_type": "markdown",
      "source": [
        "# Predicting house prices"
      ],
      "metadata": {
        "id": "1VS_gGF4in4F"
      }
    },
    {
      "cell_type": "code",
      "execution_count": null,
      "metadata": {
        "execution": {
          "iopub.execute_input": "2022-05-21T00:59:24.045461Z",
          "iopub.status.busy": "2022-05-21T00:59:24.044756Z",
          "iopub.status.idle": "2022-05-21T00:59:24.724575Z",
          "shell.execute_reply": "2022-05-21T00:59:24.723670Z"
        },
        "id": "9TVqKPRpRyek",
        "colab": {
          "base_uri": "https://localhost:8080/"
        },
        "outputId": "e70f3467-3bc1-470c-9895-bdb514ac2981"
      },
      "outputs": [
        {
          "output_type": "stream",
          "name": "stdout",
          "text": [
            "Downloading data from https://storage.googleapis.com/tensorflow/tf-keras-datasets/boston_housing.npz\n",
            "57026/57026 [==============================] - 0s 1us/step\n"
          ]
        }
      ],
      "source": [
        "from tensorflow.keras.datasets import boston_housing\n",
        "(train_data, train_targets), (test_data, test_targets) = boston_housing.load_data()"
      ]
    },
    {
      "cell_type": "code",
      "execution_count": null,
      "metadata": {
        "execution": {
          "iopub.execute_input": "2022-05-21T00:59:24.759692Z",
          "iopub.status.busy": "2022-05-21T00:59:24.759382Z",
          "iopub.status.idle": "2022-05-21T00:59:24.764808Z",
          "shell.execute_reply": "2022-05-21T00:59:24.763724Z"
        },
        "id": "XYrfTZ5MRyem"
      },
      "outputs": [],
      "source": [
        "mean = train_data.mean(axis=0)\n",
        "train_data -= mean\n",
        "std = train_data.std(axis=0)\n",
        "train_data /= std\n",
        "test_data -= mean\n",
        "test_data /= std"
      ]
    },
    {
      "cell_type": "code",
      "execution_count": null,
      "metadata": {
        "execution": {
          "iopub.execute_input": "2022-05-21T00:59:24.768846Z",
          "iopub.status.busy": "2022-05-21T00:59:24.768214Z",
          "iopub.status.idle": "2022-05-21T00:59:24.773358Z",
          "shell.execute_reply": "2022-05-21T00:59:24.772494Z"
        },
        "id": "MxJO2ZXlRyen"
      },
      "outputs": [],
      "source": [
        "def build_model():\n",
        "    model = keras.Sequential([\n",
        "        layers.Dense(64, activation=\"relu\"),\n",
        "        layers.Dense(64, activation=\"relu\"),\n",
        "        layers.Dense(1)\n",
        "    ])\n",
        "    model.compile(optimizer=\"rmsprop\", loss=\"mse\", metrics=[\"mae\"])\n",
        "    return model"
      ]
    },
    {
      "cell_type": "code",
      "source": [
        "from tensorflow import keras\n",
        "from tensorflow.keras import layers"
      ],
      "metadata": {
        "id": "cPSwR4zkVIk4"
      },
      "execution_count": null,
      "outputs": []
    },
    {
      "cell_type": "code",
      "execution_count": null,
      "metadata": {
        "execution": {
          "iopub.execute_input": "2022-05-21T00:59:24.777180Z",
          "iopub.status.busy": "2022-05-21T00:59:24.776509Z",
          "iopub.status.idle": "2022-05-21T00:59:35.954278Z",
          "shell.execute_reply": "2022-05-21T00:59:35.953206Z"
        },
        "id": "3YFddtBwRyeo"
      },
      "outputs": [],
      "source": [
        "k = 4\n",
        "num_val_samples = len(train_data) // k\n",
        "num_epochs = 100\n",
        "all_scores = []\n",
        "for i in range(k):\n",
        "    print(f\"#{i}번째 폴드 처리중\")\n",
        "    val_data = train_data[i * num_val_samples: (i + 1) * num_val_samples]\n",
        "    val_targets = train_targets[i * num_val_samples: (i + 1) * num_val_samples]\n",
        "    partial_train_data = np.concatenate(\n",
        "        [train_data[:i * num_val_samples],\n",
        "         train_data[(i + 1) * num_val_samples:]],\n",
        "        axis=0)\n",
        "    partial_train_targets = np.concatenate(\n",
        "        [train_targets[:i * num_val_samples],\n",
        "         train_targets[(i + 1) * num_val_samples:]],\n",
        "        axis=0)\n",
        "    model = build_model()\n",
        "    model.fit(partial_train_data, partial_train_targets,\n",
        "              epochs=num_epochs, batch_size=16, verbose=0)\n",
        "    val_mse, val_mae = model.evaluate(val_data, val_targets, verbose=0)\n",
        "    all_scores.append(val_mae)"
      ]
    },
    {
      "cell_type": "code",
      "execution_count": null,
      "metadata": {
        "execution": {
          "iopub.execute_input": "2022-05-21T00:59:35.958698Z",
          "iopub.status.busy": "2022-05-21T00:59:35.958386Z",
          "iopub.status.idle": "2022-05-21T00:59:35.964375Z",
          "shell.execute_reply": "2022-05-21T00:59:35.963347Z"
        },
        "id": "vUv9Mo3yRyer"
      },
      "outputs": [],
      "source": [
        "all_scores"
      ]
    },
    {
      "cell_type": "code",
      "execution_count": null,
      "metadata": {
        "execution": {
          "iopub.execute_input": "2022-05-21T00:59:35.968402Z",
          "iopub.status.busy": "2022-05-21T00:59:35.967929Z",
          "iopub.status.idle": "2022-05-21T00:59:35.973477Z",
          "shell.execute_reply": "2022-05-21T00:59:35.972600Z"
        },
        "id": "e5AFRPuERyes"
      },
      "outputs": [],
      "source": [
        "np.mean(all_scores)"
      ]
    },
    {
      "cell_type": "code",
      "execution_count": null,
      "metadata": {
        "execution": {
          "iopub.execute_input": "2022-05-21T00:59:35.977004Z",
          "iopub.status.busy": "2022-05-21T00:59:35.976727Z",
          "iopub.status.idle": "2022-05-21T01:01:15.236431Z",
          "shell.execute_reply": "2022-05-21T01:01:15.235480Z"
        },
        "id": "tBqJ3nGjRyes"
      },
      "outputs": [],
      "source": [
        "num_epochs = 500\n",
        "all_mae_histories = []\n",
        "for i in range(k):\n",
        "    print(f\"#{i}번째 폴드 처리중\")\n",
        "    val_data = train_data[i * num_val_samples: (i + 1) * num_val_samples]\n",
        "    val_targets = train_targets[i * num_val_samples: (i + 1) * num_val_samples]\n",
        "    partial_train_data = np.concatenate(\n",
        "        [train_data[:i * num_val_samples],\n",
        "         train_data[(i + 1) * num_val_samples:]],\n",
        "        axis=0)\n",
        "    partial_train_targets = np.concatenate(\n",
        "        [train_targets[:i * num_val_samples],\n",
        "         train_targets[(i + 1) * num_val_samples:]],\n",
        "        axis=0)\n",
        "    model = build_model()\n",
        "    history = model.fit(partial_train_data, partial_train_targets,\n",
        "                        validation_data=(val_data, val_targets),\n",
        "                        epochs=num_epochs, batch_size=16, verbose=0)\n",
        "    mae_history = history.history[\"val_mae\"]\n",
        "    all_mae_histories.append(mae_history)"
      ]
    },
    {
      "cell_type": "code",
      "execution_count": null,
      "metadata": {
        "execution": {
          "iopub.execute_input": "2022-05-21T01:01:15.240932Z",
          "iopub.status.busy": "2022-05-21T01:01:15.240614Z",
          "iopub.status.idle": "2022-05-21T01:01:15.249981Z",
          "shell.execute_reply": "2022-05-21T01:01:15.249150Z"
        },
        "id": "kt4SjG3NRyet"
      },
      "outputs": [],
      "source": [
        "average_mae_history = [\n",
        "    np.mean([x[i] for x in all_mae_histories]) for i in range(num_epochs)]"
      ]
    },
    {
      "cell_type": "code",
      "execution_count": null,
      "metadata": {
        "execution": {
          "iopub.execute_input": "2022-05-21T01:01:15.253642Z",
          "iopub.status.busy": "2022-05-21T01:01:15.253118Z",
          "iopub.status.idle": "2022-05-21T01:01:15.366352Z",
          "shell.execute_reply": "2022-05-21T01:01:15.365024Z"
        },
        "id": "pc47qQC4Ryet",
        "outputId": "38a99a16-98bf-4a9b-ed81-b8015725a394",
        "colab": {
          "base_uri": "https://localhost:8080/",
          "height": 449
        }
      },
      "outputs": [
        {
          "output_type": "display_data",
          "data": {
            "text/plain": [
              "<Figure size 640x480 with 1 Axes>"
            ],
            "image/png": "[encoded data removed]"
          },
          "metadata": {}
        }
      ],
      "source": [
        "import matplotlib.pyplot as plt\n",
        "plt.plot(range(1, len(average_mae_history) + 1), average_mae_history)\n",
        "plt.xlabel(\"Epochs\")\n",
        "plt.ylabel(\"Validation MAE\")\n",
        "plt.show()"
      ]
    },
    {
      "cell_type": "code",
      "execution_count": null,
      "metadata": {
        "execution": {
          "iopub.execute_input": "2022-05-21T01:01:15.371320Z",
          "iopub.status.busy": "2022-05-21T01:01:15.371023Z",
          "iopub.status.idle": "2022-05-21T01:01:15.481039Z",
          "shell.execute_reply": "2022-05-21T01:01:15.479606Z"
        },
        "id": "x6VFtaG4Ryeu",
        "outputId": "82421783-4e6a-4056-965d-9ae717073a59",
        "colab": {
          "base_uri": "https://localhost:8080/",
          "height": 449
        }
      },
      "outputs": [
        {
          "output_type": "display_data",
          "data": {
            "text/plain": [
              "<Figure size 640x480 with 1 Axes>"
            ],
            "image/png": "[encoded data removed]"
          },
          "metadata": {}
        }
      ],
      "source": [
        "truncated_mae_history = average_mae_history[10:]\n",
        "plt.plot(range(1, len(truncated_mae_history) + 1), truncated_mae_history)\n",
        "plt.xlabel(\"Epochs\")\n",
        "plt.ylabel(\"Validation MAE\")\n",
        "plt.show()"
      ]
    },
    {
      "cell_type": "code",
      "execution_count": null,
      "metadata": {
        "execution": {
          "iopub.execute_input": "2022-05-21T01:01:15.488214Z",
          "iopub.status.busy": "2022-05-21T01:01:15.487884Z",
          "iopub.status.idle": "2022-05-21T01:01:20.038808Z",
          "shell.execute_reply": "2022-05-21T01:01:20.037674Z"
        },
        "id": "wSGcMeH3Ryev"
      },
      "outputs": [],
      "source": [
        "model = build_model()\n",
        "model.fit(train_data, train_targets,\n",
        "          epochs=130, batch_size=16, verbose=0)\n",
        "test_mse_score, test_mae_score = model.evaluate(test_data, test_targets)"
      ]
    },
    {
      "cell_type": "code",
      "execution_count": null,
      "metadata": {
        "execution": {
          "iopub.execute_input": "2022-05-21T01:01:20.043289Z",
          "iopub.status.busy": "2022-05-21T01:01:20.042592Z",
          "iopub.status.idle": "2022-05-21T01:01:20.049022Z",
          "shell.execute_reply": "2022-05-21T01:01:20.048132Z"
        },
        "id": "_e_S3_P5Ryev"
      },
      "outputs": [],
      "source": [
        "test_mae_score"
      ]
    },
    {
      "cell_type": "code",
      "execution_count": null,
      "metadata": {
        "execution": {
          "iopub.execute_input": "2022-05-21T01:01:20.053135Z",
          "iopub.status.busy": "2022-05-21T01:01:20.052814Z",
          "iopub.status.idle": "2022-05-21T01:01:20.154058Z",
          "shell.execute_reply": "2022-05-21T01:01:20.153234Z"
        },
        "id": "rWLRtftSRyew"
      },
      "outputs": [],
      "source": [
        "predictions = model.predict(test_data)\n",
        "predictions[0]"
      ]
    },
    {
      "cell_type": "markdown",
      "source": [
        "### Try to visualize results (validation accuracy or validation loss) for comparison\n"
      ],
      "metadata": {
        "id": "xTluosSnk0B_"
      }
    },
    {
      "cell_type": "code",
      "execution_count": null,
      "metadata": {
        "execution": {
          "iopub.execute_input": "2022-05-21T01:01:15.240932Z",
          "iopub.status.busy": "2022-05-21T01:01:15.240614Z",
          "iopub.status.idle": "2022-05-21T01:01:15.249981Z",
          "shell.execute_reply": "2022-05-21T01:01:15.249150Z"
        },
        "id": "60VU7WEtmIq7"
      },
      "outputs": [],
      "source": [
        "num_epochs=130\n",
        "average_mae_history = [\n",
        "    np.mean([x[i] for x in all_mae_histories]) for i in range(num_epochs)]"
      ]
    },
    {
      "cell_type": "code",
      "execution_count": null,
      "metadata": {
        "execution": {
          "iopub.execute_input": "2022-05-21T01:01:15.253642Z",
          "iopub.status.busy": "2022-05-21T01:01:15.253118Z",
          "iopub.status.idle": "2022-05-21T01:01:15.366352Z",
          "shell.execute_reply": "2022-05-21T01:01:15.365024Z"
        },
        "outputId": "af3909d6-15cc-4884-c8a0-4464f00d48dc",
        "colab": {
          "base_uri": "https://localhost:8080/",
          "height": 449
        },
        "id": "QuS_J8J2l0lR"
      },
      "outputs": [
        {
          "output_type": "display_data",
          "data": {
            "text/plain": [
              "<Figure size 640x480 with 1 Axes>"
            ],
            "image/png": "[encoded data removed]"
          },
          "metadata": {}
        }
      ],
      "source": [
        "import matplotlib.pyplot as plt\n",
        "plt.plot(range(1, len(average_mae_history) + 1), average_mae_history)\n",
        "plt.xlabel(\"Epochs\")\n",
        "plt.ylabel(\"Validation MAE\")\n",
        "plt.show()"
      ]
    },
    {
      "cell_type": "code",
      "execution_count": null,
      "metadata": {
        "execution": {
          "iopub.execute_input": "2022-05-21T01:01:15.371320Z",
          "iopub.status.busy": "2022-05-21T01:01:15.371023Z",
          "iopub.status.idle": "2022-05-21T01:01:15.481039Z",
          "shell.execute_reply": "2022-05-21T01:01:15.479606Z"
        },
        "outputId": "0192c0c8-603e-44c9-fb08-994e2e1c4f67",
        "colab": {
          "base_uri": "https://localhost:8080/",
          "height": 449
        },
        "id": "rGOC7lpcluVr"
      },
      "outputs": [
        {
          "output_type": "display_data",
          "data": {
            "text/plain": [
              "<Figure size 640x480 with 1 Axes>"
            ],
            "image/png": "[encoded data removed]"
          },
          "metadata": {}
        }
      ],
      "source": [
        "truncated_mae_history = average_mae_history[10:]\n",
        "plt.plot(range(1, len(truncated_mae_history) + 1), truncated_mae_history)\n",
        "plt.xlabel(\"Epochs\")\n",
        "plt.ylabel(\"Validation MAE\")\n",
        "plt.show()"
      ]
    },
    {
      "cell_type": "markdown",
      "source": [
        "# Generalization: The goal of machine learning\n"
      ],
      "metadata": {
        "id": "ZGNxuCA-7Vn8"
      }
    },
    {
      "cell_type": "markdown",
      "source": [
        "### From Training the same model on MNIST data with noise channels or all-zero channels Add validation accuracy of original data for mnist data."
      ],
      "metadata": {
        "id": "7PRZIHvA7vbt"
      }
    },
    {
      "cell_type": "code",
      "execution_count": 4,
      "metadata": {
        "execution": {
          "iopub.execute_input": "2022-05-21T01:01:24.254476Z",
          "iopub.status.busy": "2022-05-21T01:01:24.253958Z",
          "iopub.status.idle": "2022-05-21T01:01:27.373051Z",
          "shell.execute_reply": "2022-05-21T01:01:27.372074Z"
        },
        "id": "KBz18RQVTk3C"
      },
      "outputs": [],
      "source": [
        "from tensorflow.keras.datasets import mnist\n",
        "import numpy as np\n",
        "\n",
        "(train_images, train_labels), _ = mnist.load_data()\n",
        "train_images = train_images.reshape((60000, 28 * 28))\n",
        "train_images = train_images.astype(\"float32\") / 255\n",
        "\n",
        "train_images_with_noise_channels = np.concatenate(\n",
        "    [train_images, np.random.random((len(train_images), 784))], axis=1)\n",
        "\n",
        "train_images_with_zeros_channels = np.concatenate(\n",
        "    [train_images, np.zeros((len(train_images), 784))], axis=1)"
      ]
    },
    {
      "cell_type": "code",
      "execution_count": null,
      "metadata": {
        "execution": {
          "iopub.execute_input": "2022-05-21T01:01:27.392783Z",
          "iopub.status.busy": "2022-05-21T01:01:27.392444Z",
          "iopub.status.idle": "2022-05-21T01:02:25.502977Z",
          "shell.execute_reply": "2022-05-21T01:02:25.502078Z"
        },
        "id": "H8BUR0xETk3J"
      },
      "outputs": [],
      "source": [
        "from tensorflow import keras\n",
        "from tensorflow.keras import layers\n",
        "\n",
        "def get_model():\n",
        "    model = keras.Sequential([\n",
        "        layers.Dense(512, activation=\"relu\"),\n",
        "        layers.Dense(10, activation=\"softmax\")\n",
        "    ])\n",
        "    model.compile(optimizer=\"rmsprop\",\n",
        "                  loss=\"sparse_categorical_crossentropy\",\n",
        "                  metrics=[\"accuracy\"])\n",
        "    return model\n",
        "\n",
        "model = get_model()\n",
        "history_noise = model.fit(\n",
        "    train_images_with_noise_channels, train_labels,\n",
        "    epochs=10,\n",
        "    batch_size=128,\n",
        "    validation_split=0.2)\n",
        "\n",
        "model = get_model()\n",
        "history_zeros = model.fit(\n",
        "    train_images_with_zeros_channels, train_labels,\n",
        "    epochs=10,\n",
        "    batch_size=128,\n",
        "    validation_split=0.2)\n",
        "\n",
        "model = get_model()\n",
        "history_original = model.fit(\n",
        "    train_images, train_labels,\n",
        "    epochs=10,\n",
        "    batch_size=128,\n",
        "    validation_split=0.2)"
      ]
    },
    {
      "cell_type": "code",
      "execution_count": null,
      "metadata": {
        "execution": {
          "iopub.execute_input": "2022-05-21T01:02:25.507068Z",
          "iopub.status.busy": "2022-05-21T01:02:25.506610Z",
          "iopub.status.idle": "2022-05-21T01:02:26.352048Z",
          "shell.execute_reply": "2022-05-21T01:02:26.351089Z"
        },
        "id": "FZnn2Uw4Tk3L"
      },
      "outputs": [],
      "source": [
        "import matplotlib.pyplot as plt\n",
        "val_acc_noise = history_noise.history[\"val_accuracy\"]\n",
        "val_acc_zeros = history_zeros.history[\"val_accuracy\"]\n",
        "val_acc_original = history_original.history[\"val_accuracy\"]\n",
        "epochs = range(1, 11)\n",
        "plt.plot(epochs, val_acc_noise, \"b-\",\n",
        "         label=\"Validation accuracy with noise channels\")\n",
        "plt.plot(epochs, val_acc_zeros, \"b--\",\n",
        "         label=\"Validation accuracy with zeros channels\")\n",
        "plt.plot(epochs, val_acc_original, \"r-\",\n",
        "         label=\"Validation accuracy with original data\")\n",
        "plt.title(\"Effect of noise channels on validation accuracy\")\n",
        "plt.xlabel(\"Epochs\")\n",
        "plt.ylabel(\"Accuracy\")\n",
        "plt.legend()\n",
        "plt.show()"
      ]
    },
    {
      "cell_type": "markdown",
      "source": [
        "### Fitting a MNIST model with randomly shuffled labels. Visualize training accuracy and validation accuracy.\n"
      ],
      "metadata": {
        "id": "imNs9r5b-fxH"
      }
    },
    {
      "cell_type": "code",
      "execution_count": null,
      "metadata": {
        "execution": {
          "iopub.execute_input": "2022-05-21T01:02:26.358294Z",
          "iopub.status.busy": "2022-05-21T01:02:26.357787Z",
          "iopub.status.idle": "2022-05-21T01:05:33.171731Z",
          "shell.execute_reply": "2022-05-21T01:05:33.170427Z"
        },
        "id": "8ocMHIMMTk3O"
      },
      "outputs": [],
      "source": [
        "(train_images, train_labels), _ = mnist.load_data()\n",
        "train_images = train_images.reshape((60000, 28 * 28))\n",
        "train_images = train_images.astype(\"float32\") / 255\n",
        "\n",
        "random_train_labels = train_labels[:]\n",
        "np.random.shuffle(random_train_labels)\n",
        "\n",
        "model = keras.Sequential([\n",
        "    layers.Dense(512, activation=\"relu\"),\n",
        "    layers.Dense(10, activation=\"softmax\")\n",
        "])\n",
        "model.compile(optimizer=\"rmsprop\",\n",
        "              loss=\"sparse_categorical_crossentropy\",\n",
        "              metrics=[\"accuracy\"])\n",
        "history = model.fit(train_images, random_train_labels,\n",
        "                    epochs=100,\n",
        "                    batch_size=128,\n",
        "                    validation_split=0.2)\n",
        "\n",
        "train_acc = history.history[\"accuracy\"]\n",
        "val_acc = history.history[\"val_accuracy\"]\n",
        "epochs = range(1, 101)\n",
        "\n",
        "import matplotlib.pyplot as plt\n",
        "plt.plot(epochs, train_acc, \"b-\", label=\"Training accuracy\")\n",
        "plt.plot(epochs, val_acc, \"r-\", label=\"Validation accuracy\")\n",
        "plt.title(\"Training and Validation Accuracy\")\n",
        "plt.xlabel(\"Epochs\")\n",
        "plt.ylabel(\"Accuracy\")\n",
        "plt.legend()\n",
        "plt.show()"
      ]
    },
    {
      "cell_type": "markdown",
      "source": [
        "### From Tuning key gradient descent parameters, Modify learning rates and check when model fails"
      ],
      "metadata": {
        "id": "MPRX37IIHSVH"
      }
    },
    {
      "cell_type": "code",
      "execution_count": null,
      "metadata": {
        "execution": {
          "iopub.execute_input": "2022-05-21T01:05:33.177460Z",
          "iopub.status.busy": "2022-05-21T01:05:33.177117Z",
          "iopub.status.idle": "2022-05-21T01:05:52.585061Z",
          "shell.execute_reply": "2022-05-21T01:05:52.584241Z"
        },
        "id": "ZqvcFMPRTk3T"
      },
      "outputs": [],
      "source": [
        "(train_images, train_labels), _ = mnist.load_data()\n",
        "train_images = train_images.reshape((60000, 28 * 28))\n",
        "train_images = train_images.astype(\"float32\") / 255\n",
        "\n",
        "model = keras.Sequential([\n",
        "    layers.Dense(512, activation=\"relu\"),\n",
        "    layers.Dense(10, activation=\"softmax\")\n",
        "])\n",
        "model.compile(optimizer=keras.optimizers.RMSprop(1.), #Modify learning rates\n",
        "              loss=\"sparse_categorical_crossentropy\",\n",
        "              metrics=[\"accuracy\"])\n",
        "model.fit(train_images, train_labels,\n",
        "          epochs=10,\n",
        "          batch_size=128,\n",
        "          validation_split=0.2)"
      ]
    },
    {
      "cell_type": "markdown",
      "source": [
        "### Visualize validation loss of the original model, model with lower capacity and model with larger capacity"
      ],
      "metadata": {
        "id": "nWAj5nG5HziX"
      }
    },
    {
      "cell_type": "code",
      "execution_count": null,
      "metadata": {
        "execution": {
          "iopub.execute_input": "2022-05-21T01:06:11.530131Z",
          "iopub.status.busy": "2022-05-21T01:06:11.529560Z",
          "iopub.status.idle": "2022-05-21T01:06:25.955536Z",
          "shell.execute_reply": "2022-05-21T01:06:25.954654Z"
        },
        "id": "xl5ejzSRTk3W"
      },
      "outputs": [],
      "source": [
        "model = keras.Sequential([layers.Dense(10, activation=\"softmax\")])\n",
        "model.compile(optimizer=\"rmsprop\",\n",
        "              loss=\"sparse_categorical_crossentropy\",\n",
        "              metrics=[\"accuracy\"])\n",
        "history_small_model = model.fit(\n",
        "    train_images, train_labels,\n",
        "    epochs=20,\n",
        "    batch_size=128,\n",
        "    validation_split=0.2)"
      ]
    },
    {
      "cell_type": "code",
      "execution_count": null,
      "metadata": {
        "execution": {
          "iopub.execute_input": "2022-05-21T01:06:26.281161Z",
          "iopub.status.busy": "2022-05-21T01:06:26.280863Z",
          "iopub.status.idle": "2022-05-21T01:06:48.235589Z",
          "shell.execute_reply": "2022-05-21T01:06:48.234644Z"
        },
        "id": "TYz3NAseTk3X"
      },
      "outputs": [],
      "source": [
        "model = keras.Sequential([\n",
        "    layers.Dense(96, activation=\"relu\"),\n",
        "    layers.Dense(96, activation=\"relu\"),\n",
        "    layers.Dense(10, activation=\"softmax\"),\n",
        "])\n",
        "model.compile(optimizer=\"rmsprop\",\n",
        "              loss=\"sparse_categorical_crossentropy\",\n",
        "              metrics=[\"accuracy\"])\n",
        "history_large_model = model.fit(\n",
        "    train_images, train_labels,\n",
        "    epochs=20,\n",
        "    batch_size=128,\n",
        "    validation_split=0.2)"
      ]
    },
    {
      "cell_type": "code",
      "source": [
        "import matplotlib.pyplot as plt\n",
        "smodel_val_loss = history_small_model.history[\"val_loss\"]\n",
        "lmodel_val_loss = history_large_model.history[\"val_loss\"]\n",
        "epochs = range(1, 21)\n",
        "plt.plot(epochs, smodel_val_loss, \"b-\",\n",
        "         label=\"Smodel_Validation loss\")\n",
        "plt.plot(epochs, lmodel_val_loss, \"b--\",\n",
        "         label=\"Lmodel_Validation loss\")\n",
        "plt.title(\"Effect of insufficient model capacity on validation loss\")\n",
        "plt.xlabel(\"Epochs\")\n",
        "plt.ylabel(\"Loss\")\n",
        "plt.legend()\n",
        "plt.show()"
      ],
      "metadata": {
        "id": "oeqsRQyQioju",
        "outputId": "c56aad4a-225e-48a5-8475-e9a2eb0163de",
        "colab": {
          "base_uri": "https://localhost:8080/",
          "height": 472
        }
      },
      "execution_count": 16,
      "outputs": [
        {
          "output_type": "display_data",
          "data": {
            "text/plain": [
              "<Figure size 640x480 with 1 Axes>"
            ],
            "image/png": "[encoded data removed]"
          },
          "metadata": {}
        }
      ]
    },
    {
      "cell_type": "markdown",
      "source": [
        "### Visualize validation loss of the original model and model with dropout"
      ],
      "metadata": {
        "id": "-p9IEjHBM-HH"
      }
    },
    {
      "cell_type": "code",
      "execution_count": null,
      "metadata": {
        "execution": {
          "iopub.execute_input": "2022-05-21T01:08:04.241161Z",
          "iopub.status.busy": "2022-05-21T01:08:04.240762Z",
          "iopub.status.idle": "2022-05-21T01:08:13.113623Z",
          "shell.execute_reply": "2022-05-21T01:08:13.112554Z"
        },
        "id": "K6C938cRTk3d"
      },
      "outputs": [],
      "source": [
        "from tensorflow.keras.datasets import imdb\n",
        "(train_data, train_labels), _ = imdb.load_data(num_words=10000)\n",
        "\n",
        "def vectorize_sequences(sequences, dimension=10000):\n",
        "    results = np.zeros((len(sequences), dimension))\n",
        "    for i, sequence in enumerate(sequences):\n",
        "        results[i, sequence] = 1.\n",
        "    return results\n",
        "train_data = vectorize_sequences(train_data)\n",
        "\n",
        "model = keras.Sequential([\n",
        "    layers.Dense(16, activation=\"relu\"),\n",
        "    layers.Dense(16, activation=\"relu\"),\n",
        "    layers.Dense(1, activation=\"sigmoid\")\n",
        "])\n",
        "model.compile(optimizer=\"rmsprop\",\n",
        "              loss=\"binary_crossentropy\",\n",
        "              metrics=[\"accuracy\"])\n",
        "history_original = model.fit(\n",
        "    train_data, train_labels,\n",
        "    epochs=20, batch_size=512, validation_split=0.4)\n",
        "\n",
        "model = keras.Sequential([\n",
        "    layers.Dense(16, activation=\"relu\"),\n",
        "    layers.Dropout(0.5),\n",
        "    layers.Dense(16, activation=\"relu\"),\n",
        "    layers.Dropout(0.5),\n",
        "    layers.Dense(1, activation=\"sigmoid\")\n",
        "])\n",
        "model.compile(optimizer=\"rmsprop\",\n",
        "              loss=\"binary_crossentropy\",\n",
        "              metrics=[\"accuracy\"])\n",
        "history_dropout = model.fit(\n",
        "    train_data, train_labels,\n",
        "    epochs=20, batch_size=512, validation_split=0.4)"
      ]
    },
    {
      "cell_type": "code",
      "source": [
        "import matplotlib.pyplot as plt\n",
        "\n",
        "val_loss_original = history_original.history[\"val_loss\"]\n",
        "val_loss_dropout = history_dropout.history[\"val_loss\"]\n",
        "epochs = range(1, 21)\n",
        "\n",
        "plt.plot(epochs, val_loss_original, \"b--\", label=\"Original model\")\n",
        "plt.plot(epochs, val_loss_dropout, \"b-\", label=\"Model with dropout\")\n",
        "plt.xlabel(\"Epochs\")\n",
        "plt.ylabel(\"Validation loss\")\n",
        "plt.legend()\n",
        "plt.show()"
      ],
      "metadata": {
        "id": "SkJRTC0NOOZj",
        "outputId": "f476dca9-d23a-4d81-ff7c-3df7d9228eb0",
        "colab": {
          "base_uri": "https://localhost:8080/",
          "height": 449
        }
      },
      "execution_count": 20,
      "outputs": [
        {
          "output_type": "display_data",
          "data": {
            "text/plain": [
              "<Figure size 640x480 with 1 Axes>"
            ],
            "image/png": "[encoded data removed]"
          },
          "metadata": {}
        }
      ]
    }
  ]
}